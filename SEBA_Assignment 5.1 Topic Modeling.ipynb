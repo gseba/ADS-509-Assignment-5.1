{
 "cells": [
  {
   "cell_type": "markdown",
   "id": "bce2bb89",
   "metadata": {},
   "source": [
    "# ADS 509 Assignment 5.1: Topic Modeling\n",
    "## Ghassan Seba\n",
    "\n",
    "This notebook holds Assignment 5.1 for Module 5 in ADS 509, Applied Text Mining. Work through this notebook, writing code and answering questions where required. \n",
    "\n",
    "In this assignment you will work with a categorical corpus that accompanies `nltk`. You will build the three types of topic models described in Chapter 8 of _Blueprints for Text Analytics using Python_: NMF, LSA, and LDA. You will compare these models to the true categories. \n"
   ]
  },
  {
   "cell_type": "code",
   "execution_count": 1,
   "id": "75102f5e-d248-4ce6-aadd-a8e697e6d0a7",
   "metadata": {},
   "outputs": [],
   "source": [
    "# !pip install pyLDAvis==3.4.1 --user \n",
    "# !pip install spacy\n",
    "# !pip install numpy==1.23.5\n",
    "# !python -m spacy download en_core_web_sm"
   ]
  },
  {
   "cell_type": "code",
   "execution_count": 2,
   "id": "a85bce08",
   "metadata": {},
   "outputs": [],
   "source": [
    "# These libraries may be useful to you\n",
    "\n",
    "#!pip install pyLDAvis==3.4.1 --user  #You need to restart the Kernel after installation.\n",
    "# You also need a Python version => 3.9.0\n",
    "import nltk\n",
    "from nltk.corpus import brown\n",
    "\n",
    "import numpy as np\n",
    "import pandas as pd\n",
    "from tqdm.auto import tqdm\n",
    "\n",
    "import pyLDAvis\n",
    "import pyLDAvis.lda_model\n",
    "import pyLDAvis.gensim_models\n",
    "\n",
    "import spacy\n",
    "from sklearn.feature_extraction.text import TfidfVectorizer, CountVectorizer\n",
    "from sklearn.decomposition import NMF, TruncatedSVD, LatentDirichletAllocation\n",
    "\n",
    "from spacy.lang.en.stop_words import STOP_WORDS as stopwords\n",
    "\n",
    "from collections import Counter, defaultdict\n",
    "\n",
    "nlp = spacy.load('en_core_web_sm')"
   ]
  },
  {
   "cell_type": "code",
   "execution_count": 3,
   "id": "78f02e99-63eb-470a-9e8a-7528b39dd15a",
   "metadata": {},
   "outputs": [],
   "source": [
    "# # Check Python version => 3.9.0\n",
    "# !python --version"
   ]
  },
  {
   "cell_type": "code",
   "execution_count": 4,
   "id": "a218df60",
   "metadata": {},
   "outputs": [
    {
     "data": {
      "text/plain": [
       "True"
      ]
     },
     "execution_count": 4,
     "metadata": {},
     "output_type": "execute_result"
    }
   ],
   "source": [
    "# add any additional libaries you need here\n",
    "nltk.download('brown', quiet=True)\n"
   ]
  },
  {
   "cell_type": "code",
   "execution_count": 5,
   "id": "494de237",
   "metadata": {},
   "outputs": [],
   "source": [
    "# This function comes from the BTAP repo.\n",
    "\n",
    "def display_topics(model, features, no_top_words=5):\n",
    "    for topic, words in enumerate(model.components_):\n",
    "        total = words.sum()\n",
    "        largest = words.argsort()[::-1] # invert sort order\n",
    "        print(\"\\nTopic %02d\" % topic)\n",
    "        for i in range(0, no_top_words):\n",
    "            print(\"  %s (%2.2f)\" % (features[largest[i]], abs(words[largest[i]]*100.0/total)))"
   ]
  },
  {
   "cell_type": "markdown",
   "id": "a30a901c",
   "metadata": {},
   "source": [
    "## Getting to Know the Brown Corpus\n",
    "\n",
    "Let's spend a bit of time getting to know what's in the Brown corpus, our NLTK example of an \"overlapping\" corpus."
   ]
  },
  {
   "cell_type": "code",
   "execution_count": 6,
   "id": "457c59ed",
   "metadata": {},
   "outputs": [
    {
     "name": "stdout",
     "output_type": "stream",
     "text": [
      "For adventure we have 29 articles.\n",
      "For belles_lettres we have 75 articles.\n",
      "For editorial we have 27 articles.\n",
      "For fiction we have 29 articles.\n",
      "For government we have 30 articles.\n",
      "For hobbies we have 36 articles.\n",
      "For humor we have 9 articles.\n",
      "For learned we have 80 articles.\n",
      "For lore we have 48 articles.\n",
      "For mystery we have 24 articles.\n",
      "For news we have 44 articles.\n",
      "For religion we have 17 articles.\n",
      "For reviews we have 17 articles.\n",
      "For romance we have 29 articles.\n",
      "For science_fiction we have 6 articles.\n"
     ]
    }
   ],
   "source": [
    "# categories of articles in Brown corpus\n",
    "for category in brown.categories() :\n",
    "    print(f\"For {category} we have {len(brown.fileids(categories=category))} articles.\")"
   ]
  },
  {
   "cell_type": "markdown",
   "id": "23fb133c",
   "metadata": {},
   "source": [
    "Let's create a dataframe of the articles in of hobbies, editorial, government, news, and romance."
   ]
  },
  {
   "cell_type": "code",
   "execution_count": 7,
   "id": "18f50b9d",
   "metadata": {},
   "outputs": [
    {
     "data": {
      "text/plain": [
       "(166, 3)"
      ]
     },
     "execution_count": 7,
     "metadata": {},
     "output_type": "execute_result"
    }
   ],
   "source": [
    "categories = ['editorial','government','news','romance','hobbies'] \n",
    "\n",
    "category_list = []\n",
    "file_ids = []\n",
    "texts = []\n",
    "\n",
    "for category in categories : \n",
    "    for file_id in brown.fileids(categories=category) :\n",
    "        \n",
    "        # build some lists for a dataframe\n",
    "        category_list.append(category)\n",
    "        file_ids.append(file_id)\n",
    "        \n",
    "        text = brown.words(fileids=file_id)\n",
    "        texts.append(\" \".join(text))\n",
    "\n",
    "        \n",
    "        \n",
    "df = pd.DataFrame()\n",
    "df['category'] = category_list\n",
    "df['id'] = file_ids\n",
    "df['text'] = texts \n",
    "\n",
    "df.shape"
   ]
  },
  {
   "cell_type": "code",
   "execution_count": 8,
   "id": "fc60f04a-7954-483c-a1a3-3d77d68848df",
   "metadata": {},
   "outputs": [],
   "source": [
    "# # Understand contents of df\n",
    "# df.head(50)"
   ]
  },
  {
   "cell_type": "code",
   "execution_count": 9,
   "id": "586f47de",
   "metadata": {},
   "outputs": [],
   "source": [
    "# Let's add some helpful columns on the df\n",
    "df['char_len'] = df['text'].apply(len)\n",
    "df['word_len'] = df['text'].apply(lambda x: len(x.split()))"
   ]
  },
  {
   "cell_type": "code",
   "execution_count": 10,
   "id": "2128fd2d",
   "metadata": {},
   "outputs": [
    {
     "data": {
      "text/plain": [
       "<Axes: xlabel='category'>"
      ]
     },
     "execution_count": 10,
     "metadata": {},
     "output_type": "execute_result"
    },
    {
     "data": {
      "image/png": "[encoded data removed]",
      "text/plain": [
       "<Figure size 1000x600 with 1 Axes>"
      ]
     },
     "metadata": {},
     "output_type": "display_data"
    }
   ],
   "source": [
    "%matplotlib inline\n",
    "df.groupby('category').agg({'word_len': 'mean'}).plot.bar(figsize=(10,6))"
   ]
  },
  {
   "cell_type": "markdown",
   "id": "554ffeb5",
   "metadata": {},
   "source": [
    "Now do our TF-IDF and Count vectorizations."
   ]
  },
  {
   "cell_type": "code",
   "execution_count": 11,
   "id": "21a7d247",
   "metadata": {},
   "outputs": [
    {
     "data": {
      "text/plain": [
       "(166, 4939)"
      ]
     },
     "execution_count": 11,
     "metadata": {},
     "output_type": "execute_result"
    }
   ],
   "source": [
    "# Process stop words to match text splitting due to warning\n",
    "processed_stopwords_CV = list(CountVectorizer().build_tokenizer()(\" \".join(stopwords)))\n",
    "\n",
    "# Create the CountVectorizer with consistent stop words\n",
    "count_text_vectorizer = CountVectorizer(stop_words=processed_stopwords_CV, min_df=5, max_df=0.7)\n",
    "count_text_vectors = count_text_vectorizer.fit_transform(df[\"text\"])\n",
    "count_text_vectors.shape"
   ]
  },
  {
   "cell_type": "code",
   "execution_count": 12,
   "id": "cac6b05f-ca61-4040-ba08-50f4445e5aa4",
   "metadata": {},
   "outputs": [
    {
     "data": {
      "text/html": [
       "<div>\n",
       "<style scoped>\n",
       "    .dataframe tbody tr th:only-of-type {\n",
       "        vertical-align: middle;\n",
       "    }\n",
       "\n",
       "    .dataframe tbody tr th {\n",
       "        vertical-align: top;\n",
       "    }\n",
       "\n",
       "    .dataframe thead th {\n",
       "        text-align: right;\n",
       "    }\n",
       "</style>\n",
       "<table border=\"1\" class=\"dataframe\">\n",
       "  <thead>\n",
       "    <tr style=\"text-align: right;\">\n",
       "      <th></th>\n",
       "      <th>00</th>\n",
       "      <th>000</th>\n",
       "      <th>10</th>\n",
       "      <th>100</th>\n",
       "      <th>11</th>\n",
       "      <th>12</th>\n",
       "      <th>120</th>\n",
       "      <th>13</th>\n",
       "      <th>14</th>\n",
       "      <th>15</th>\n",
       "      <th>...</th>\n",
       "      <th>yes</th>\n",
       "      <th>yesterday</th>\n",
       "      <th>yield</th>\n",
       "      <th>york</th>\n",
       "      <th>young</th>\n",
       "      <th>younger</th>\n",
       "      <th>youngsters</th>\n",
       "      <th>youth</th>\n",
       "      <th>zone</th>\n",
       "      <th>zoning</th>\n",
       "    </tr>\n",
       "    <tr>\n",
       "      <th>id</th>\n",
       "      <th></th>\n",
       "      <th></th>\n",
       "      <th></th>\n",
       "      <th></th>\n",
       "      <th></th>\n",
       "      <th></th>\n",
       "      <th></th>\n",
       "      <th></th>\n",
       "      <th></th>\n",
       "      <th></th>\n",
       "      <th></th>\n",
       "      <th></th>\n",
       "      <th></th>\n",
       "      <th></th>\n",
       "      <th></th>\n",
       "      <th></th>\n",
       "      <th></th>\n",
       "      <th></th>\n",
       "      <th></th>\n",
       "      <th></th>\n",
       "      <th></th>\n",
       "    </tr>\n",
       "  </thead>\n",
       "  <tbody>\n",
       "    <tr>\n",
       "      <th>cb01</th>\n",
       "      <td>0</td>\n",
       "      <td>3</td>\n",
       "      <td>0</td>\n",
       "      <td>0</td>\n",
       "      <td>0</td>\n",
       "      <td>0</td>\n",
       "      <td>0</td>\n",
       "      <td>1</td>\n",
       "      <td>0</td>\n",
       "      <td>1</td>\n",
       "      <td>...</td>\n",
       "      <td>0</td>\n",
       "      <td>0</td>\n",
       "      <td>0</td>\n",
       "      <td>1</td>\n",
       "      <td>0</td>\n",
       "      <td>0</td>\n",
       "      <td>0</td>\n",
       "      <td>0</td>\n",
       "      <td>0</td>\n",
       "      <td>0</td>\n",
       "    </tr>\n",
       "    <tr>\n",
       "      <th>cb02</th>\n",
       "      <td>0</td>\n",
       "      <td>3</td>\n",
       "      <td>0</td>\n",
       "      <td>0</td>\n",
       "      <td>0</td>\n",
       "      <td>1</td>\n",
       "      <td>0</td>\n",
       "      <td>1</td>\n",
       "      <td>0</td>\n",
       "      <td>0</td>\n",
       "      <td>...</td>\n",
       "      <td>0</td>\n",
       "      <td>0</td>\n",
       "      <td>0</td>\n",
       "      <td>3</td>\n",
       "      <td>0</td>\n",
       "      <td>0</td>\n",
       "      <td>0</td>\n",
       "      <td>0</td>\n",
       "      <td>2</td>\n",
       "      <td>0</td>\n",
       "    </tr>\n",
       "    <tr>\n",
       "      <th>cb03</th>\n",
       "      <td>0</td>\n",
       "      <td>0</td>\n",
       "      <td>0</td>\n",
       "      <td>2</td>\n",
       "      <td>0</td>\n",
       "      <td>0</td>\n",
       "      <td>0</td>\n",
       "      <td>0</td>\n",
       "      <td>0</td>\n",
       "      <td>0</td>\n",
       "      <td>...</td>\n",
       "      <td>0</td>\n",
       "      <td>0</td>\n",
       "      <td>0</td>\n",
       "      <td>0</td>\n",
       "      <td>2</td>\n",
       "      <td>0</td>\n",
       "      <td>0</td>\n",
       "      <td>0</td>\n",
       "      <td>0</td>\n",
       "      <td>0</td>\n",
       "    </tr>\n",
       "    <tr>\n",
       "      <th>cb04</th>\n",
       "      <td>0</td>\n",
       "      <td>1</td>\n",
       "      <td>0</td>\n",
       "      <td>0</td>\n",
       "      <td>0</td>\n",
       "      <td>2</td>\n",
       "      <td>0</td>\n",
       "      <td>0</td>\n",
       "      <td>0</td>\n",
       "      <td>1</td>\n",
       "      <td>...</td>\n",
       "      <td>0</td>\n",
       "      <td>0</td>\n",
       "      <td>1</td>\n",
       "      <td>0</td>\n",
       "      <td>0</td>\n",
       "      <td>0</td>\n",
       "      <td>0</td>\n",
       "      <td>0</td>\n",
       "      <td>0</td>\n",
       "      <td>0</td>\n",
       "    </tr>\n",
       "    <tr>\n",
       "      <th>cb05</th>\n",
       "      <td>0</td>\n",
       "      <td>1</td>\n",
       "      <td>0</td>\n",
       "      <td>1</td>\n",
       "      <td>1</td>\n",
       "      <td>0</td>\n",
       "      <td>0</td>\n",
       "      <td>0</td>\n",
       "      <td>0</td>\n",
       "      <td>0</td>\n",
       "      <td>...</td>\n",
       "      <td>0</td>\n",
       "      <td>0</td>\n",
       "      <td>0</td>\n",
       "      <td>0</td>\n",
       "      <td>0</td>\n",
       "      <td>0</td>\n",
       "      <td>0</td>\n",
       "      <td>0</td>\n",
       "      <td>0</td>\n",
       "      <td>0</td>\n",
       "    </tr>\n",
       "  </tbody>\n",
       "</table>\n",
       "<p>5 rows × 4939 columns</p>\n",
       "</div>"
      ],
      "text/plain": [
       "      00  000  10  100  11  12  120  13  14  15  ...  yes  yesterday  yield  \\\n",
       "id                                               ...                          \n",
       "cb01   0    3   0    0   0   0    0   1   0   1  ...    0          0      0   \n",
       "cb02   0    3   0    0   0   1    0   1   0   0  ...    0          0      0   \n",
       "cb03   0    0   0    2   0   0    0   0   0   0  ...    0          0      0   \n",
       "cb04   0    1   0    0   0   2    0   0   0   1  ...    0          0      1   \n",
       "cb05   0    1   0    1   1   0    0   0   0   0  ...    0          0      0   \n",
       "\n",
       "      york  young  younger  youngsters  youth  zone  zoning  \n",
       "id                                                           \n",
       "cb01     1      0        0           0      0     0       0  \n",
       "cb02     3      0        0           0      0     2       0  \n",
       "cb03     0      2        0           0      0     0       0  \n",
       "cb04     0      0        0           0      0     0       0  \n",
       "cb05     0      0        0           0      0     0       0  \n",
       "\n",
       "[5 rows x 4939 columns]"
      ]
     },
     "execution_count": 12,
     "metadata": {},
     "output_type": "execute_result"
    }
   ],
   "source": [
    "# Convert to dense matrix\n",
    "dense_matrix_CV = count_text_vectors.toarray()\n",
    "\n",
    "# Get feature names from vectorizer\n",
    "feature_names_CV = count_text_vectorizer.get_feature_names_out()\n",
    "\n",
    "# Convert to DataFrame with feature names as columns and document IDs as index\n",
    "df_vectors_CV = pd.DataFrame(dense_matrix_CV, columns=feature_names_CV, index=df['id'])\n",
    "\n",
    "# Display the DataFrame\n",
    "df_vectors_CV.head()  "
   ]
  },
  {
   "cell_type": "code",
   "execution_count": 13,
   "id": "875deba9",
   "metadata": {},
   "outputs": [
    {
     "data": {
      "text/plain": [
       "(166, 4939)"
      ]
     },
     "execution_count": 13,
     "metadata": {},
     "output_type": "execute_result"
    }
   ],
   "source": [
    "# Process stop words to match text splitting due to warning\n",
    "processed_stopwords_TV = list(TfidfVectorizer().build_tokenizer()(\" \".join(stopwords)))\n",
    "\n",
    "# Create the CountVectorizer with consistent stop words\n",
    "tfidf_text_vectorizer = TfidfVectorizer(stop_words=processed_stopwords_TV, min_df=5, max_df=0.7)\n",
    "tfidf_text_vectors = tfidf_text_vectorizer.fit_transform(df['text'])\n",
    "tfidf_text_vectors.shape"
   ]
  },
  {
   "cell_type": "code",
   "execution_count": 14,
   "id": "de8933fd-0385-446a-8d8f-23bf403d06c8",
   "metadata": {},
   "outputs": [
    {
     "data": {
      "text/html": [
       "<div>\n",
       "<style scoped>\n",
       "    .dataframe tbody tr th:only-of-type {\n",
       "        vertical-align: middle;\n",
       "    }\n",
       "\n",
       "    .dataframe tbody tr th {\n",
       "        vertical-align: top;\n",
       "    }\n",
       "\n",
       "    .dataframe thead th {\n",
       "        text-align: right;\n",
       "    }\n",
       "</style>\n",
       "<table border=\"1\" class=\"dataframe\">\n",
       "  <thead>\n",
       "    <tr style=\"text-align: right;\">\n",
       "      <th></th>\n",
       "      <th>00</th>\n",
       "      <th>000</th>\n",
       "      <th>10</th>\n",
       "      <th>100</th>\n",
       "      <th>11</th>\n",
       "      <th>12</th>\n",
       "      <th>120</th>\n",
       "      <th>13</th>\n",
       "      <th>14</th>\n",
       "      <th>15</th>\n",
       "      <th>...</th>\n",
       "      <th>yes</th>\n",
       "      <th>yesterday</th>\n",
       "      <th>yield</th>\n",
       "      <th>york</th>\n",
       "      <th>young</th>\n",
       "      <th>younger</th>\n",
       "      <th>youngsters</th>\n",
       "      <th>youth</th>\n",
       "      <th>zone</th>\n",
       "      <th>zoning</th>\n",
       "    </tr>\n",
       "    <tr>\n",
       "      <th>id</th>\n",
       "      <th></th>\n",
       "      <th></th>\n",
       "      <th></th>\n",
       "      <th></th>\n",
       "      <th></th>\n",
       "      <th></th>\n",
       "      <th></th>\n",
       "      <th></th>\n",
       "      <th></th>\n",
       "      <th></th>\n",
       "      <th></th>\n",
       "      <th></th>\n",
       "      <th></th>\n",
       "      <th></th>\n",
       "      <th></th>\n",
       "      <th></th>\n",
       "      <th></th>\n",
       "      <th></th>\n",
       "      <th></th>\n",
       "      <th></th>\n",
       "      <th></th>\n",
       "    </tr>\n",
       "  </thead>\n",
       "  <tbody>\n",
       "    <tr>\n",
       "      <th>cb01</th>\n",
       "      <td>0.0</td>\n",
       "      <td>0.046852</td>\n",
       "      <td>0.0</td>\n",
       "      <td>0.000000</td>\n",
       "      <td>0.000000</td>\n",
       "      <td>0.000000</td>\n",
       "      <td>0.0</td>\n",
       "      <td>0.023450</td>\n",
       "      <td>0.0</td>\n",
       "      <td>0.019456</td>\n",
       "      <td>...</td>\n",
       "      <td>0.0</td>\n",
       "      <td>0.0</td>\n",
       "      <td>0.000000</td>\n",
       "      <td>0.016895</td>\n",
       "      <td>0.000000</td>\n",
       "      <td>0.0</td>\n",
       "      <td>0.0</td>\n",
       "      <td>0.0</td>\n",
       "      <td>0.000000</td>\n",
       "      <td>0.0</td>\n",
       "    </tr>\n",
       "    <tr>\n",
       "      <th>cb02</th>\n",
       "      <td>0.0</td>\n",
       "      <td>0.040107</td>\n",
       "      <td>0.0</td>\n",
       "      <td>0.000000</td>\n",
       "      <td>0.000000</td>\n",
       "      <td>0.015896</td>\n",
       "      <td>0.0</td>\n",
       "      <td>0.020074</td>\n",
       "      <td>0.0</td>\n",
       "      <td>0.000000</td>\n",
       "      <td>...</td>\n",
       "      <td>0.0</td>\n",
       "      <td>0.0</td>\n",
       "      <td>0.000000</td>\n",
       "      <td>0.043389</td>\n",
       "      <td>0.000000</td>\n",
       "      <td>0.0</td>\n",
       "      <td>0.0</td>\n",
       "      <td>0.0</td>\n",
       "      <td>0.062348</td>\n",
       "      <td>0.0</td>\n",
       "    </tr>\n",
       "    <tr>\n",
       "      <th>cb03</th>\n",
       "      <td>0.0</td>\n",
       "      <td>0.000000</td>\n",
       "      <td>0.0</td>\n",
       "      <td>0.041794</td>\n",
       "      <td>0.000000</td>\n",
       "      <td>0.000000</td>\n",
       "      <td>0.0</td>\n",
       "      <td>0.000000</td>\n",
       "      <td>0.0</td>\n",
       "      <td>0.000000</td>\n",
       "      <td>...</td>\n",
       "      <td>0.0</td>\n",
       "      <td>0.0</td>\n",
       "      <td>0.000000</td>\n",
       "      <td>0.000000</td>\n",
       "      <td>0.034956</td>\n",
       "      <td>0.0</td>\n",
       "      <td>0.0</td>\n",
       "      <td>0.0</td>\n",
       "      <td>0.000000</td>\n",
       "      <td>0.0</td>\n",
       "    </tr>\n",
       "    <tr>\n",
       "      <th>cb04</th>\n",
       "      <td>0.0</td>\n",
       "      <td>0.016735</td>\n",
       "      <td>0.0</td>\n",
       "      <td>0.000000</td>\n",
       "      <td>0.000000</td>\n",
       "      <td>0.039797</td>\n",
       "      <td>0.0</td>\n",
       "      <td>0.000000</td>\n",
       "      <td>0.0</td>\n",
       "      <td>0.020849</td>\n",
       "      <td>...</td>\n",
       "      <td>0.0</td>\n",
       "      <td>0.0</td>\n",
       "      <td>0.036429</td>\n",
       "      <td>0.000000</td>\n",
       "      <td>0.000000</td>\n",
       "      <td>0.0</td>\n",
       "      <td>0.0</td>\n",
       "      <td>0.0</td>\n",
       "      <td>0.000000</td>\n",
       "      <td>0.0</td>\n",
       "    </tr>\n",
       "    <tr>\n",
       "      <th>cb05</th>\n",
       "      <td>0.0</td>\n",
       "      <td>0.014687</td>\n",
       "      <td>0.0</td>\n",
       "      <td>0.018843</td>\n",
       "      <td>0.019635</td>\n",
       "      <td>0.000000</td>\n",
       "      <td>0.0</td>\n",
       "      <td>0.000000</td>\n",
       "      <td>0.0</td>\n",
       "      <td>0.000000</td>\n",
       "      <td>...</td>\n",
       "      <td>0.0</td>\n",
       "      <td>0.0</td>\n",
       "      <td>0.000000</td>\n",
       "      <td>0.000000</td>\n",
       "      <td>0.000000</td>\n",
       "      <td>0.0</td>\n",
       "      <td>0.0</td>\n",
       "      <td>0.0</td>\n",
       "      <td>0.000000</td>\n",
       "      <td>0.0</td>\n",
       "    </tr>\n",
       "  </tbody>\n",
       "</table>\n",
       "<p>5 rows × 4939 columns</p>\n",
       "</div>"
      ],
      "text/plain": [
       "       00       000   10       100        11        12  120        13   14  \\\n",
       "id                                                                           \n",
       "cb01  0.0  0.046852  0.0  0.000000  0.000000  0.000000  0.0  0.023450  0.0   \n",
       "cb02  0.0  0.040107  0.0  0.000000  0.000000  0.015896  0.0  0.020074  0.0   \n",
       "cb03  0.0  0.000000  0.0  0.041794  0.000000  0.000000  0.0  0.000000  0.0   \n",
       "cb04  0.0  0.016735  0.0  0.000000  0.000000  0.039797  0.0  0.000000  0.0   \n",
       "cb05  0.0  0.014687  0.0  0.018843  0.019635  0.000000  0.0  0.000000  0.0   \n",
       "\n",
       "            15  ...  yes  yesterday     yield      york     young  younger  \\\n",
       "id              ...                                                          \n",
       "cb01  0.019456  ...  0.0        0.0  0.000000  0.016895  0.000000      0.0   \n",
       "cb02  0.000000  ...  0.0        0.0  0.000000  0.043389  0.000000      0.0   \n",
       "cb03  0.000000  ...  0.0        0.0  0.000000  0.000000  0.034956      0.0   \n",
       "cb04  0.020849  ...  0.0        0.0  0.036429  0.000000  0.000000      0.0   \n",
       "cb05  0.000000  ...  0.0        0.0  0.000000  0.000000  0.000000      0.0   \n",
       "\n",
       "      youngsters  youth      zone  zoning  \n",
       "id                                         \n",
       "cb01         0.0    0.0  0.000000     0.0  \n",
       "cb02         0.0    0.0  0.062348     0.0  \n",
       "cb03         0.0    0.0  0.000000     0.0  \n",
       "cb04         0.0    0.0  0.000000     0.0  \n",
       "cb05         0.0    0.0  0.000000     0.0  \n",
       "\n",
       "[5 rows x 4939 columns]"
      ]
     },
     "execution_count": 14,
     "metadata": {},
     "output_type": "execute_result"
    }
   ],
   "source": [
    "# Convert to Dense matrix of TF-IDF vectors\n",
    "dense_matrix_TV = tfidf_text_vectors.toarray()\n",
    "\n",
    "# Get Feature names from TfidfVectorizer\n",
    "feature_names_TV = tfidf_text_vectorizer.get_feature_names_out()\n",
    "\n",
    "# DataFrame with feature names as columns and document IDs as index\n",
    "df_vectors_TV = pd.DataFrame(dense_matrix_TV, columns=feature_names_TV, index=df['id'])\n",
    "\n",
    "# First 5 rows of the DataFrame\n",
    "df_vectors_TV.head()\n"
   ]
  },
  {
   "cell_type": "markdown",
   "id": "a1062b21",
   "metadata": {},
   "source": [
    "Q: What do the two data frames `count_text_vectors` and `tfidf_text_vectors` hold? \n",
    "\n",
    "***A: The two DataFrames, `count_text_vector` and `tfidf_text_vectors,` both hold tokenized word data for the articles but in different forms. `count_text_vectors` contains the `raw word counts,` showing how many times each word appears in each article in `\"The Brown Corpus.\"` The `tfidf_text_vectors` hold the `TF-IDF scores,` which adjust these counts based on how `important a word is` relative to the entire dataset, giving more weight to unique words and less to common ones. Both DataFrames provide information on the words in each article but with different focuses: one on frequency and the other on significance. This is evident when the dataframes are displayed as the `count_text_vector` shows discrete counts as values and the `tfidf_text_vectors` show continuous values that represent calculated scores.***"
   ]
  },
  {
   "cell_type": "markdown",
   "id": "f77c3f94",
   "metadata": {},
   "source": [
    "## Fitting a Non-Negative Matrix Factorization Model\n",
    "\n",
    "In this section the code to fit a five-topic NMF model has already been written. This code comes directly from the [BTAP repo](https://github.com/blueprints-for-text-analytics-python/blueprints-text), which will help you tremendously in the coming sections. "
   ]
  },
  {
   "cell_type": "code",
   "execution_count": 15,
   "id": "d28745a3",
   "metadata": {},
   "outputs": [],
   "source": [
    "nmf_text_model = NMF(n_components=5, random_state=314)\n",
    "W_text_matrix = nmf_text_model.fit_transform(tfidf_text_vectors)\n",
    "H_text_matrix = nmf_text_model.components_"
   ]
  },
  {
   "cell_type": "code",
   "execution_count": 16,
   "id": "a67185e7",
   "metadata": {},
   "outputs": [
    {
     "name": "stdout",
     "output_type": "stream",
     "text": [
      "\n",
      "Topic 00\n",
      "  mr (0.51)\n",
      "  president (0.45)\n",
      "  kennedy (0.43)\n",
      "  united (0.42)\n",
      "  khrushchev (0.40)\n",
      "\n",
      "Topic 01\n",
      "  said (0.89)\n",
      "  didn (0.46)\n",
      "  thought (0.42)\n",
      "  man (0.38)\n",
      "  don (0.35)\n",
      "\n",
      "Topic 02\n",
      "  state (0.39)\n",
      "  development (0.36)\n",
      "  tax (0.33)\n",
      "  sales (0.30)\n",
      "  program (0.25)\n",
      "\n",
      "Topic 03\n",
      "  mrs (2.63)\n",
      "  mr (0.79)\n",
      "  said (0.63)\n",
      "  miss (0.53)\n",
      "  car (0.51)\n",
      "\n",
      "Topic 04\n",
      "  game (1.02)\n",
      "  league (0.75)\n",
      "  ball (0.73)\n",
      "  baseball (0.71)\n",
      "  team (0.67)\n"
     ]
    }
   ],
   "source": [
    "display_topics(nmf_text_model, tfidf_text_vectorizer.get_feature_names_out())"
   ]
  },
  {
   "cell_type": "markdown",
   "id": "fee51e9b",
   "metadata": {},
   "source": [
    "Now some work for you to do. Compare the NMF factorization to the original categories from the Brown Corpus.\n",
    "\n",
    "We are interested in the extent to which our NMF factorization agrees or disagrees with the original categories in the corpus. For each topic in your NMF model, tally the Brown categories and interpret the results. \n"
   ]
  },
  {
   "cell_type": "code",
   "execution_count": 17,
   "id": "7c8c8eb0",
   "metadata": {},
   "outputs": [
    {
     "name": "stdout",
     "output_type": "stream",
     "text": [
      "\n",
      "Topic 0:\n",
      "category\n",
      "editorial     20\n",
      "government     4\n",
      "hobbies        0\n",
      "news           8\n",
      "romance        0\n",
      "Name: 0, dtype: int64\n",
      "\n",
      "Topic 1:\n",
      "category\n",
      "editorial      4\n",
      "government     0\n",
      "hobbies        8\n",
      "news           0\n",
      "romance       29\n",
      "Name: 1, dtype: int64\n",
      "\n",
      "Topic 2:\n",
      "category\n",
      "editorial      2\n",
      "government    26\n",
      "hobbies       26\n",
      "news          11\n",
      "romance        0\n",
      "Name: 2, dtype: int64\n",
      "\n",
      "Topic 3:\n",
      "category\n",
      "editorial      0\n",
      "government     0\n",
      "hobbies        1\n",
      "news          17\n",
      "romance        0\n",
      "Name: 3, dtype: int64\n",
      "\n",
      "Topic 4:\n",
      "category\n",
      "editorial     1\n",
      "government    0\n",
      "hobbies       1\n",
      "news          8\n",
      "romance       0\n",
      "Name: 4, dtype: int64\n"
     ]
    }
   ],
   "source": [
    "# Assign each document to the most relevant NMF topic\n",
    "df['nmf_topic'] = np.argmax(W_text_matrix, axis=1)\n",
    "\n",
    "# Tally Brown categories for each NMF topic\n",
    "nmf_category_tally = pd.crosstab(df['nmf_topic'], df['category'])\n",
    "\n",
    "# Display the results\n",
    "for topic in range(5):\n",
    "    print(f\"\\nTopic {topic}:\")\n",
    "    print(nmf_category_tally.loc[topic])"
   ]
  },
  {
   "cell_type": "markdown",
   "id": "f8d4e2bc",
   "metadata": {},
   "source": [
    "Q: How does your five-topic NMF model compare to the original Brown categories? \n",
    "\n",
    "***A: The NMF model groups articles based on common themes very effectively. However, it also identifies some overlap between categories. This overlap is interesting as it may indicate potential relationships between the topics. For example, editorial and news articles, as well as hobbies and government articles, appear to share similarities. While the boundaries between some of the categories may be fuzzy, I can see how valuable the insights could be with further analysis.***"
   ]
  },
  {
   "cell_type": "markdown",
   "id": "82e37cb5",
   "metadata": {},
   "source": [
    "## Fitting an LSA Model\n",
    "\n",
    "In this section, follow the example from the repository and fit an LSA model (called a \"TruncatedSVD\" in `sklearn`). Again fit a five-topic model and compare it to the actual categories in the Brown corpus. Use the TF-IDF vectors for your fit, as above. \n",
    "\n",
    "To be explicit, we are once again interested in the extent to which this LSA factorization agrees or disagrees with the original categories in the corpus. For each topic in your model, tally the Brown categories and interpret the results. \n"
   ]
  },
  {
   "cell_type": "code",
   "execution_count": 18,
   "id": "00b53d3d",
   "metadata": {},
   "outputs": [],
   "source": [
    "# Fit the LSA model with 5 topics\n",
    "svd_para_model = TruncatedSVD(n_components=5, random_state=42)\n",
    "W_svd_para_matrix = svd_para_model.fit_transform(tfidf_text_vectors)\n",
    "H_svd_para_matrix = svd_para_model.components_\n",
    "\n",
    "# Assign each document to the most relevant LSA topic\n",
    "df['lsa_topic'] = np.argmax(W_svd_para_matrix, axis=1)\n",
    "\n",
    "# Tally Brown categories for each LSA topic\n",
    "lsa_category_tally = pd.crosstab(df['lsa_topic'], df['category'])"
   ]
  },
  {
   "cell_type": "code",
   "execution_count": 19,
   "id": "ad2d96ce-a982-4e8e-b9be-40b8b1100f15",
   "metadata": {},
   "outputs": [
    {
     "data": {
      "text/html": [
       "<div>\n",
       "<style scoped>\n",
       "    .dataframe tbody tr th:only-of-type {\n",
       "        vertical-align: middle;\n",
       "    }\n",
       "\n",
       "    .dataframe tbody tr th {\n",
       "        vertical-align: top;\n",
       "    }\n",
       "\n",
       "    .dataframe thead th {\n",
       "        text-align: right;\n",
       "    }\n",
       "</style>\n",
       "<table border=\"1\" class=\"dataframe\">\n",
       "  <thead>\n",
       "    <tr style=\"text-align: right;\">\n",
       "      <th>category</th>\n",
       "      <th>editorial</th>\n",
       "      <th>government</th>\n",
       "      <th>hobbies</th>\n",
       "      <th>news</th>\n",
       "      <th>romance</th>\n",
       "    </tr>\n",
       "    <tr>\n",
       "      <th>lsa_topic</th>\n",
       "      <th></th>\n",
       "      <th></th>\n",
       "      <th></th>\n",
       "      <th></th>\n",
       "      <th></th>\n",
       "    </tr>\n",
       "  </thead>\n",
       "  <tbody>\n",
       "    <tr>\n",
       "      <th>0</th>\n",
       "      <td>27</td>\n",
       "      <td>30</td>\n",
       "      <td>36</td>\n",
       "      <td>34</td>\n",
       "      <td>21</td>\n",
       "    </tr>\n",
       "    <tr>\n",
       "      <th>1</th>\n",
       "      <td>0</td>\n",
       "      <td>0</td>\n",
       "      <td>0</td>\n",
       "      <td>0</td>\n",
       "      <td>8</td>\n",
       "    </tr>\n",
       "    <tr>\n",
       "      <th>3</th>\n",
       "      <td>0</td>\n",
       "      <td>0</td>\n",
       "      <td>0</td>\n",
       "      <td>3</td>\n",
       "      <td>0</td>\n",
       "    </tr>\n",
       "    <tr>\n",
       "      <th>4</th>\n",
       "      <td>0</td>\n",
       "      <td>0</td>\n",
       "      <td>0</td>\n",
       "      <td>7</td>\n",
       "      <td>0</td>\n",
       "    </tr>\n",
       "  </tbody>\n",
       "</table>\n",
       "</div>"
      ],
      "text/plain": [
       "category   editorial  government  hobbies  news  romance\n",
       "lsa_topic                                               \n",
       "0                 27          30       36    34       21\n",
       "1                  0           0        0     0        8\n",
       "3                  0           0        0     3        0\n",
       "4                  0           0        0     7        0"
      ]
     },
     "execution_count": 19,
     "metadata": {},
     "output_type": "execute_result"
    }
   ],
   "source": [
    "# Display the tally\n",
    "lsa_category_tally"
   ]
  },
  {
   "cell_type": "code",
   "execution_count": 20,
   "id": "e5499345-58ac-4922-976b-952261f97461",
   "metadata": {},
   "outputs": [
    {
     "data": {
      "text/plain": [
       "array([3.69734343, 2.24163352, 1.69712548, 1.66355215, 1.56267787])"
      ]
     },
     "execution_count": 20,
     "metadata": {},
     "output_type": "execute_result"
    }
   ],
   "source": [
    "# View singular values\n",
    "svd_para_model.singular_values_"
   ]
  },
  {
   "cell_type": "markdown",
   "id": "4d94d56f",
   "metadata": {},
   "source": [
    "Q: How does your five-topic LSA model compare to the original Brown categories? \n",
    "\n",
    "***A: It appears that topic 0 shows considerable overlap across several Brown categories, pulling in documents from editorial, government, hobbies, news, and romance, indicating that it captures a broad, shared theme. In contrast, the rest of the topics (1, 3, and 4) are much more focused, with little overlap, as they mainly contain documents from specific categories like romance or news.*** "
   ]
  },
  {
   "cell_type": "code",
   "execution_count": 21,
   "id": "377a886e",
   "metadata": {},
   "outputs": [
    {
     "name": "stdout",
     "output_type": "stream",
     "text": [
      "\n",
      "Topic 00\n",
      "  said (0.44)\n",
      "  mr (0.25)\n",
      "  mrs (0.22)\n",
      "  state (0.20)\n",
      "  man (0.17)\n",
      "\n",
      "Topic 01\n",
      "  said (4.32)\n",
      "  didn (2.89)\n",
      "  thought (2.43)\n",
      "  mrs (2.18)\n",
      "  got (2.16)\n",
      "\n",
      "Topic 02\n",
      "  mrs (3.11)\n",
      "  mr (1.72)\n",
      "  said (1.02)\n",
      "  kennedy (0.80)\n",
      "  president (0.77)\n",
      "\n",
      "Topic 03\n",
      "  mrs (27.75)\n",
      "  club (6.23)\n",
      "  game (6.17)\n",
      "  jr (5.32)\n",
      "  dallas (5.10)\n",
      "\n",
      "Topic 04\n",
      "  game (4.45)\n",
      "  league (3.16)\n",
      "  baseball (3.13)\n",
      "  ball (3.03)\n",
      "  team (2.88)\n"
     ]
    }
   ],
   "source": [
    "# Display the top words for each topic\n",
    "display_topics(svd_para_model, tfidf_text_vectorizer.get_feature_names_out())"
   ]
  },
  {
   "cell_type": "markdown",
   "id": "ea8b280a",
   "metadata": {},
   "source": [
    "Q: What is your interpretation of the display topics output? \n",
    "\n",
    "***A: The display topics output shows that Topic 00 has very generic terms like \"said\" and \"mr,\" which may explain why it overlaps with so many categories. The remaining topics, while still somewhat generic, show more context. For example, Topic 04 is clearly about sports (news) with terms like \"baseball\" and \"team.\" These more specific words in the other topics help limit them to fewer categories.***"
   ]
  },
  {
   "cell_type": "markdown",
   "id": "b4ab4d29",
   "metadata": {},
   "source": [
    "## Fitting an LDA Model\n",
    "\n",
    "Finally, fit a five-topic LDA model using the count vectors (`count_text_vectors` from above). Display the results using `pyLDAvis.display` and describe what you learn from that visualization. "
   ]
  },
  {
   "cell_type": "code",
   "execution_count": 22,
   "id": "802cb8ff",
   "metadata": {},
   "outputs": [],
   "source": [
    "# Fit LDA model with 5 topics\n",
    "lda_text_model = LatentDirichletAllocation(n_components=5, random_state=42)\n",
    "W_lda_text_matrix = lda_text_model.fit_transform(count_text_vectors)\n",
    "H_lda_text_matrix = lda_text_model.components_"
   ]
  },
  {
   "cell_type": "code",
   "execution_count": 23,
   "id": "ab18adf5",
   "metadata": {},
   "outputs": [
    {
     "name": "stdout",
     "output_type": "stream",
     "text": [
      "\n",
      "Topic 00\n",
      "  house (0.69)\n",
      "  clay (0.60)\n",
      "  shelter (0.47)\n",
      "  inch (0.46)\n",
      "  cut (0.45)\n",
      "\n",
      "Topic 01\n",
      "  said (1.24)\n",
      "  man (0.58)\n",
      "  old (0.55)\n",
      "  little (0.54)\n",
      "  good (0.49)\n",
      "\n",
      "Topic 02\n",
      "  feed (1.07)\n",
      "  af (0.74)\n",
      "  pool (0.55)\n",
      "  head (0.45)\n",
      "  high (0.43)\n",
      "\n",
      "Topic 03\n",
      "  state (0.83)\n",
      "  states (0.59)\n",
      "  united (0.53)\n",
      "  government (0.49)\n",
      "  000 (0.41)\n",
      "\n",
      "Topic 04\n",
      "  mrs (1.51)\n",
      "  said (1.06)\n",
      "  mr (0.84)\n",
      "  home (0.67)\n",
      "  week (0.51)\n"
     ]
    }
   ],
   "source": [
    "# Display top words for each topic\n",
    "display_topics(lda_text_model, count_text_vectorizer.get_feature_names_out())"
   ]
  },
  {
   "cell_type": "markdown",
   "id": "f2c67876",
   "metadata": {},
   "source": [
    "Q: What inference do you draw from the displayed topics for your LDA model? \n",
    "\n",
    "***A: The displayed topics show that the LDA model identifies clear and distinct themes. For example, Topic 00 relates to construction with words like \"house\" and \"cut,\" while Topic 03 focuses on government with terms like \"state\" and \"government.\" Topic 01 captures dialogue or personal narratives, and Topic 04 centers on domestic life with words like \"mrs\" and \"home.\" Overall, this model does a much better job of effectively grouping topics into their respective themes.***"
   ]
  },
  {
   "cell_type": "markdown",
   "id": "efb7b50e-0c0c-4190-9fbc-0ca5b1b1a6de",
   "metadata": {},
   "source": [
    "Q: Repeat the tallying of Brown categories within your topics. How does your five-topic LDA model compare to the original Brown categories? \n",
    "\n",
    "***A: The five-topic LDA model shows that Topic 3 combines documents from editorial, government, and news, suggesting it covers a broad theme across these categories. Topic 1 is mainly focused on romance and hobbies, while Topics 0 and 2 primarily include hobbies with a few documents from government and news. Topic 4 is mostly made up of news documents, making it more specific. The LDA model captures some clear themes but still shows an overlap between categories like editorial, government, and news.***"
   ]
  },
  {
   "cell_type": "code",
   "execution_count": 24,
   "id": "0a233ac3-cc42-4336-9718-71f94a71ae2c",
   "metadata": {},
   "outputs": [
    {
     "data": {
      "text/html": [
       "<div>\n",
       "<style scoped>\n",
       "    .dataframe tbody tr th:only-of-type {\n",
       "        vertical-align: middle;\n",
       "    }\n",
       "\n",
       "    .dataframe tbody tr th {\n",
       "        vertical-align: top;\n",
       "    }\n",
       "\n",
       "    .dataframe thead th {\n",
       "        text-align: right;\n",
       "    }\n",
       "</style>\n",
       "<table border=\"1\" class=\"dataframe\">\n",
       "  <thead>\n",
       "    <tr style=\"text-align: right;\">\n",
       "      <th>category</th>\n",
       "      <th>editorial</th>\n",
       "      <th>government</th>\n",
       "      <th>hobbies</th>\n",
       "      <th>news</th>\n",
       "      <th>romance</th>\n",
       "    </tr>\n",
       "    <tr>\n",
       "      <th>lda_topic</th>\n",
       "      <th></th>\n",
       "      <th></th>\n",
       "      <th></th>\n",
       "      <th></th>\n",
       "      <th></th>\n",
       "    </tr>\n",
       "  </thead>\n",
       "  <tbody>\n",
       "    <tr>\n",
       "      <th>0</th>\n",
       "      <td>0</td>\n",
       "      <td>1</td>\n",
       "      <td>11</td>\n",
       "      <td>1</td>\n",
       "      <td>0</td>\n",
       "    </tr>\n",
       "    <tr>\n",
       "      <th>1</th>\n",
       "      <td>6</td>\n",
       "      <td>0</td>\n",
       "      <td>9</td>\n",
       "      <td>1</td>\n",
       "      <td>29</td>\n",
       "    </tr>\n",
       "    <tr>\n",
       "      <th>2</th>\n",
       "      <td>0</td>\n",
       "      <td>1</td>\n",
       "      <td>8</td>\n",
       "      <td>0</td>\n",
       "      <td>0</td>\n",
       "    </tr>\n",
       "    <tr>\n",
       "      <th>3</th>\n",
       "      <td>21</td>\n",
       "      <td>28</td>\n",
       "      <td>8</td>\n",
       "      <td>24</td>\n",
       "      <td>0</td>\n",
       "    </tr>\n",
       "    <tr>\n",
       "      <th>4</th>\n",
       "      <td>0</td>\n",
       "      <td>0</td>\n",
       "      <td>0</td>\n",
       "      <td>18</td>\n",
       "      <td>0</td>\n",
       "    </tr>\n",
       "  </tbody>\n",
       "</table>\n",
       "</div>"
      ],
      "text/plain": [
       "category   editorial  government  hobbies  news  romance\n",
       "lda_topic                                               \n",
       "0                  0           1       11     1        0\n",
       "1                  6           0        9     1       29\n",
       "2                  0           1        8     0        0\n",
       "3                 21          28        8    24        0\n",
       "4                  0           0        0    18        0"
      ]
     },
     "execution_count": 24,
     "metadata": {},
     "output_type": "execute_result"
    }
   ],
   "source": [
    "# Assign each document to the most relevant LDA topic\n",
    "df['lda_topic'] = np.argmax(W_lda_text_matrix, axis=1)\n",
    "\n",
    "# Tally Brown categories for each LDA topic\n",
    "lda_category_tally = pd.crosstab(df['lda_topic'], df['category'])\n",
    "\n",
    "# Display the tally\n",
    "lda_category_tally"
   ]
  },
  {
   "cell_type": "code",
   "execution_count": 25,
   "id": "6aae75ca",
   "metadata": {},
   "outputs": [],
   "source": [
    "lda_display = pyLDAvis.lda_model.prepare(lda_text_model, count_text_vectors, count_text_vectorizer, sort_topics=False)"
   ]
  },
  {
   "cell_type": "code",
   "execution_count": 26,
   "id": "2a89fc15",
   "metadata": {},
   "outputs": [
    {
     "data": {
      "text/html": [
       "\n",
       "<link rel=\"stylesheet\" type=\"text/css\" href=\"https://cdn.jsdelivr.net/gh/bmabey/pyLDAvis@3.4.0/pyLDAvis/js/ldavis.v1.0.0.css\">\n",
       "\n",
       "\n",
       "<div id=\"ldavis_el503122394130313872135108434\" style=\"background-color:white;\"></div>\n",
       "<script type=\"text/javascript\">\n",
       "\n",
       "var ldavis_el503122394130313872135108434_data = {\"mdsDat\": {\"x\": [-0.0033746414048826156, 0.15086294464826303, -0.15651328771120676, -0.11324366840585037, 0.12226865287367675], \"y\": [-0.10419647084085377, -0.06579992155617242, -0.07470734010627626, 0.13603170640766896, 0.10867202609563349], \"topics\": [1, 2, 3, 4, 5], \"cluster\": [1, 1, 1, 1, 1], \"Freq\": [9.163495823321748, 25.75149775081548, 6.4409429419017545, 44.77643364190316, 13.867629842057852]}, \"tinfo\": {\"Term\": [\"mrs\", \"said\", \"feed\", \"mr\", \"house\", \"home\", \"president\", \"state\", \"af\", \"pool\", \"clay\", \"states\", \"club\", \"united\", \"development\", \"government\", \"old\", \"man\", \"head\", \"use\", \"game\", \"high\", \"good\", \"didn\", \"tax\", \"shelter\", \"little\", \"week\", \"inch\", \"way\", \"shelter\", \"roof\", \"blocks\", \"thickness\", \"cream\", \"builder\", \"erected\", \"underground\", \"senators\", \"stove\", \"meat\", \"clay\", \"fallout\", \"salt\", \"ballet\", \"concrete\", \"cooled\", \"heating\", \"lumber\", \"cooling\", \"seats\", \"outdoors\", \"polished\", \"pipes\", \"160\", \"frames\", \"radiation\", \"heater\", \"slip\", \"gallery\", \"inch\", \"36\", \"builders\", \"sugar\", \"wooden\", \"vernon\", \"heat\", \"trim\", \"installed\", \"cut\", \"oil\", \"republican\", \"house\", \"pieces\", \"gas\", \"piece\", \"wall\", \"press\", \"place\", \"inside\", \"good\", \"water\", \"build\", \"use\", \"best\", \"outside\", \"half\", \"president\", \"don\", \"air\", \"way\", \"set\", \"30\", \"home\", \"work\", \"000\", \"kennedy\", \"said\", \"wasn\", \"sat\", \"pale\", \"smiled\", \"love\", \"painting\", \"sounds\", \"listening\", \"loved\", \"remembered\", \"sky\", \"couldn\", \"eyes\", \"hell\", \"imagine\", \"jesus\", \"voice\", \"god\", \"stared\", \"liked\", \"sight\", \"hair\", \"moments\", \"innocent\", \"speak\", \"wondered\", \"tone\", \"pope\", \"laughed\", \"looked\", \"didn\", \"stood\", \"alexander\", \"thought\", \"mother\", \"wouldn\", \"isn\", \"beautiful\", \"yes\", \"hadn\", \"knew\", \"door\", \"girls\", \"went\", \"know\", \"woman\", \"father\", \"little\", \"bridge\", \"black\", \"old\", \"let\", \"man\", \"life\", \"young\", \"think\", \"got\", \"felt\", \"come\", \"said\", \"thing\", \"away\", \"look\", \"came\", \"don\", \"good\", \"way\", \"left\", \"going\", \"people\", \"right\", \"took\", \"day\", \"great\", \"course\", \"feed\", \"drill\", \"apparatus\", \"experiments\", \"measurement\", \"measurements\", \"af\", \"bars\", \"screw\", \"lever\", \"cattle\", \"precise\", \"parallel\", \"chemical\", \"precision\", \"muscles\", \"shipping\", \"blades\", \"accuracy\", \"surfaces\", \"super\", \"push\", \"flexibility\", \"signs\", \"muscle\", \"leg\", \"frame\", \"clarity\", \"dancer\", \"exercise\", \"textile\", \"technique\", \"bar\", \"pool\", \"volume\", \"plastic\", \"tool\", \"sign\", \"panels\", \"weight\", \"daily\", \"temperature\", \"pressure\", \"signal\", \"head\", \"applied\", \"high\", \"dog\", \"12\", \"large\", \"brown\", \"junior\", \"class\", \"line\", \"work\", \"10\", \"possible\", \"position\", \"use\", \"world\", \"number\", \"mr\", \"tax\", \"congress\", \"aircraft\", \"rayburn\", \"fiscal\", \"congo\", \"marketing\", \"payment\", \"bank\", \"economy\", \"department\", \"missile\", \"motors\", \"attorney\", \"shares\", \"payments\", \"election\", \"political\", \"administrative\", \"institutions\", \"services\", \"loans\", \"workers\", \"organization\", \"loan\", \"authorized\", \"justice\", \"citizens\", \"representatives\", \"financing\", \"government\", \"administration\", \"states\", \"united\", \"nuclear\", \"agency\", \"million\", \"property\", \"rhode\", \"technical\", \"providence\", \"state\", \"act\", \"shall\", \"report\", \"federal\", \"development\", \"program\", \"secretary\", \"policy\", \"corps\", \"agreement\", \"public\", \"military\", \"sales\", \"general\", \"income\", \"000\", \"county\", \"business\", \"service\", \"american\", \"peace\", \"local\", \"1960\", \"national\", \"president\", \"system\", \"company\", \"board\", \"use\", \"mr\", \"said\", \"city\", \"people\", \"world\", \"yankees\", \"players\", \"yards\", \"robinson\", \"lee\", \"orchestra\", \"coach\", \"viet\", \"missouri\", \"pitcher\", \"dave\", \"pitching\", \"oct\", \"stadium\", \"ruth\", \"homer\", \"nam\", \"ex\", \"willie\", \"al\", \"ball\", \"anderson\", \"baseball\", \"johnny\", \"roger\", \"jane\", \"deadlock\", \"ann\", \"football\", \"hollywood\", \"golf\", \"mrs\", \"laos\", \"playing\", \"stations\", \"team\", \"player\", \"game\", \"club\", \"runs\", \"league\", \"st\", \"season\", \"jr\", \"friday\", \"play\", \"hit\", \"chairman\", \"monday\", \"home\", \"saturday\", \"mr\", \"week\", \"class\", \"meeting\", \"said\", \"sunday\", \"miss\", \"night\", \"judge\", \"kennedy\", \"president\", \"john\", \"school\", \"york\", \"city\", \"run\", \"day\", \"national\"], \"Freq\": [302.0, 791.0, 91.0, 387.0, 224.0, 262.0, 295.0, 500.0, 70.0, 75.0, 75.0, 343.0, 110.0, 309.0, 205.0, 283.0, 250.0, 279.0, 131.0, 254.0, 89.0, 216.0, 302.0, 123.0, 182.0, 54.0, 235.0, 186.0, 63.0, 270.0, 53.64565418539566, 26.469442362623546, 18.58026669139206, 12.441281957072208, 10.691617784664643, 21.159885169638585, 10.563458628899305, 8.933723947813686, 8.91322311296477, 8.034754514743733, 19.27839909688827, 68.13207068075202, 25.390614120121775, 15.62154014922687, 19.43023080695569, 19.41442333918994, 5.424182764192376, 17.70677167400281, 23.832698036099625, 29.85371623662806, 6.866044204724181, 4.552898394654364, 4.5521914913287675, 4.550093617001765, 4.54164112628143, 16.483067770392097, 27.66897655120291, 8.902276535590763, 8.828249127902245, 16.918117742159314, 52.24957212569417, 21.90580992105011, 16.70637558626044, 10.949044009190452, 17.635764713739853, 14.954991638118573, 27.59654555380503, 11.345406014065135, 15.256424330567228, 50.913571627869906, 24.301172027958184, 23.33972925873338, 78.45553053629231, 26.660636969700608, 19.65704914639264, 28.021155187120943, 28.383118233294862, 25.074151282992332, 41.968096385976835, 23.232846223686952, 46.207372032417425, 36.35242853809142, 23.911364407573213, 41.678115342646954, 32.624682784233364, 26.07557124089442, 29.85848787061343, 38.06523298609429, 32.79271688265227, 28.44482097224028, 36.262963127347504, 30.906290690780235, 28.217079162112142, 30.228688001988434, 29.56065406132563, 28.36667762901063, 26.49061543760232, 26.556193114458015, 57.12726905618943, 36.92319047975666, 26.29248645908668, 26.29190514090911, 58.02568937439093, 21.454589064229978, 19.517212275530866, 18.55446362527026, 17.592123494653098, 18.493785007002938, 16.613733043115943, 50.83253229825049, 93.0962024360351, 15.656731712912508, 15.655203496208596, 15.653440697558056, 47.02341144792838, 59.77543381711879, 14.690396350353605, 14.689654092050551, 14.683875928201394, 33.967865847567126, 15.583527304474837, 14.670267518576301, 22.018357828460932, 13.72241555072839, 13.717266243863472, 19.170037357798343, 12.75857750282542, 80.03955923849203, 116.17744366858877, 44.785941499781806, 23.467205848888888, 122.33872139014764, 85.7990654920957, 38.18602181947803, 39.75441091682058, 45.10212071401822, 36.78909475961245, 29.37068290548872, 77.14276034096602, 59.54590409272255, 36.254134075724174, 110.70610324937553, 149.94549018782834, 48.141711557045745, 53.40290037985235, 171.99516269421537, 44.91043517751194, 53.66306347986069, 177.18415730940416, 93.19189098627517, 186.70571805280758, 116.73947531542424, 100.40394664410505, 99.01273054789144, 106.27914125981728, 72.04704221924794, 125.22848255132075, 396.4278420089179, 73.93334468654646, 88.70746954108571, 92.21798158101896, 108.27060581886816, 113.64867251966844, 157.9810115584998, 145.86714588725496, 101.90402573997345, 87.21093047680753, 123.37175151772007, 107.29353618175128, 81.20786105878588, 119.53201591731711, 93.32140417142517, 81.08803175352966, 85.76945650858298, 29.28828594391819, 9.193317251139545, 12.466035110764208, 9.902621892649982, 10.582960432386814, 58.94944894761396, 23.591132805744103, 13.570664678294131, 12.805456556412, 16.303610107967714, 6.3568346007161445, 8.481392736434582, 20.699319389300573, 16.90117790910587, 9.04893434677135, 11.786765489404104, 5.4145751614267095, 12.786803029930313, 4.687542248419493, 12.73752395869993, 19.670735563669407, 7.650141186231395, 24.136484445352064, 11.87942975741472, 18.656695070939666, 24.483404875219254, 6.2100764215059066, 6.195994705829087, 18.036350616875076, 18.50794694268182, 9.587560166138925, 26.966297507221945, 44.05788645052098, 25.928760342360956, 15.521514336252542, 17.9936645701351, 29.825853483357253, 18.905828392362466, 23.47288253588701, 25.0631455946559, 18.404924166674725, 26.38540701560476, 16.314701983185266, 35.71618743687984, 16.692806873866523, 34.32827777855162, 18.75546623858674, 23.376388937125714, 26.410259006587772, 23.065716377825716, 20.333929900673297, 22.139254982584564, 21.411377112100077, 25.116449565268425, 22.562361080127445, 21.77670438799971, 20.63311032401822, 22.753371506787047, 22.272830286141197, 21.186428056839528, 19.741400976260447, 181.72621829547228, 86.94137687213104, 57.51735596004317, 46.64081483313347, 112.65029505710017, 43.67993063986598, 42.694545135528735, 42.69285786944133, 41.70285491145644, 41.70247968147895, 158.98713400583537, 40.709481544422744, 46.4929274924015, 39.695266167220765, 37.74878510589702, 41.61507114066562, 55.06708315641528, 83.01360308134, 32.809544805858636, 32.80897140516542, 95.53600262359791, 31.821652876762833, 34.70664128572638, 73.30705419111732, 33.741483503444016, 30.834019787049783, 30.830890637484554, 38.53663462741181, 30.808654523668462, 29.84313564764006, 273.48195336401216, 131.77019051725375, 328.7529188252669, 296.7491112507504, 77.57169380857887, 40.44034530770314, 127.7517132582775, 94.90002785425574, 85.47583116055043, 58.47325140905521, 45.13582361431395, 462.9058617799573, 128.63415098980886, 124.8152256208984, 88.03039095057372, 111.44566299973651, 191.21111151750333, 219.55542319953994, 118.475808590532, 92.37647513308035, 74.91553794950799, 65.74398119463773, 187.69866864658601, 117.08246030642489, 113.00512466648377, 183.15674356836286, 80.62723608448184, 228.80853583755336, 97.21483363259077, 172.7901753938805, 160.32428535187776, 173.19545210392718, 99.43360969653662, 110.22820661960354, 110.17428748637809, 148.97072111323064, 172.30851974952645, 114.81653617125218, 112.90996353650044, 123.45909200285692, 144.02895440577177, 156.4750600539849, 186.19964495186255, 125.57683219194197, 127.73044546218507, 126.48395528325621, 25.17199099155501, 24.207472151344774, 26.03914795332971, 18.437623553989386, 17.478405209936884, 20.17350688459612, 21.934436520144924, 14.599127144524013, 14.598741543191231, 14.597632770325934, 18.20460306190209, 13.64105497773904, 15.418597744772473, 12.68229378821012, 12.68145926408272, 12.679154776383378, 12.677589283701167, 12.676137863349533, 12.62113472923897, 11.71941868742573, 58.32429307689023, 10.719055889933394, 36.55153286472793, 9.797810990241357, 8.836132016405225, 8.836157075451723, 8.829864066088607, 8.826635741516002, 23.803269698783385, 8.784307845042623, 24.36925486420399, 260.43949710944395, 43.69846001940431, 34.498549962330905, 51.35778289700351, 48.47220530376493, 40.77106616324545, 72.49026355202348, 87.53926328480087, 34.22635894075538, 46.664524517391115, 57.249482588688814, 50.770884164741574, 49.400453813675846, 37.39168400491848, 48.082836908504945, 42.18979729443774, 41.96578624817151, 44.38518184233356, 115.0193831718188, 33.342975564295415, 145.02804083837546, 88.0556852648862, 54.17942070396588, 53.01520614820668, 182.55629461198146, 44.194766940549165, 51.17140267661283, 61.96538979676028, 35.15102865013928, 53.58340079131358, 76.41812414009853, 58.53659898846949, 56.757900106387865, 50.78875718022434, 52.2357943823543, 46.1860417631225, 51.685840307993644, 44.27806366843138], \"Total\": [302.0, 791.0, 91.0, 387.0, 224.0, 262.0, 295.0, 500.0, 70.0, 75.0, 75.0, 343.0, 110.0, 309.0, 205.0, 283.0, 250.0, 279.0, 131.0, 254.0, 89.0, 216.0, 302.0, 123.0, 182.0, 54.0, 235.0, 186.0, 63.0, 270.0, 54.4110314744606, 27.23696662393546, 19.347665664210698, 13.21144586079491, 11.458284002394851, 22.881380307329238, 11.471435109206213, 9.705621143115053, 9.708121688568175, 8.831259993183064, 21.209309968521946, 75.03701150575452, 28.3014835303806, 17.643954462591264, 22.03174267683612, 22.15093409295242, 6.19955978870918, 20.27552413659561, 27.507917201737083, 34.64395623947591, 7.9922986625037815, 5.322450120815964, 5.322458006042471, 5.322362184615182, 5.323589438476083, 19.549986836496434, 33.0139828282915, 10.69768441932982, 10.676833247948895, 20.475775299503926, 63.26910125376399, 26.660647098553273, 20.574686580886716, 13.385418277537552, 22.34464015196528, 18.735058852537712, 39.36444569149534, 14.284295455295467, 20.553274867138125, 91.79531357610236, 38.24288940140671, 37.40618093576996, 224.72117326706544, 49.37457575328266, 31.36909127265154, 56.89695017076657, 63.597724831411206, 53.29184313532493, 186.38395020636136, 46.96874727687889, 302.8428303147997, 160.38552883402878, 52.87343998327042, 254.33858207564478, 135.78226216925614, 69.2825712497227, 117.21112076065337, 295.1688600207166, 173.4062195297894, 99.71644036631582, 270.4493621540119, 165.4280588564031, 113.92819592626898, 262.7953780953204, 257.53497257187377, 284.863825199801, 127.9070157042174, 791.921083829241, 57.96623830085769, 37.672390581217634, 27.039006109172465, 27.039068344741615, 59.89477865678637, 22.205438810678736, 20.272093294038573, 19.305408673062466, 18.339026399733452, 19.300185309579188, 17.372229195792784, 53.16570102896318, 97.4662150813482, 16.405531470640295, 16.405555397599816, 16.405778560792875, 49.30552309122721, 62.812995558900425, 15.438905940329366, 15.438882468661568, 15.438724967537924, 35.73272367004355, 16.39931532750213, 15.439291742282242, 23.18123892862634, 14.472136769019247, 14.471918169190532, 20.28030568319665, 13.50558505939076, 84.98322860513454, 123.66561609673052, 48.21816795225111, 25.120999453826354, 139.097773096035, 96.52014840345096, 41.594309896738494, 43.454283024043924, 49.95540311464887, 40.466604069745784, 31.861703925281827, 89.89211178784835, 68.93770437343298, 40.296317833178314, 136.00795703696866, 190.07684791880632, 54.94122258060486, 62.73751449022255, 235.00792262645246, 51.730209000066345, 63.40950730614567, 250.33669708719714, 120.63047880366732, 279.694688839725, 160.80943479796574, 135.1913883323236, 133.0409350720011, 145.45070997504746, 91.1836094585986, 183.681172588795, 791.921083829241, 95.06436156044178, 121.82324190763147, 128.39512184806867, 161.11609451509574, 173.4062195297894, 302.8428303147997, 270.4493621540119, 159.64067850033604, 132.06214316542386, 266.92864960597075, 210.92035556477376, 119.54740343319094, 301.41735528852195, 202.99614791047125, 138.19014691905124, 91.48997152857092, 31.66001966511767, 9.963420600251728, 14.562771866122123, 11.737057075720188, 12.632107708467966, 70.39167025201216, 28.318159558504885, 16.34495238661886, 15.54823312579004, 20.090034008239368, 8.132075342167695, 10.890945608140779, 26.657397570212982, 21.839411361158202, 11.92894012199198, 15.646141283059182, 7.2254944253121725, 17.527241833594623, 6.438723419460237, 18.355724739624456, 28.4734170353938, 11.098965913291105, 35.03408249880719, 17.468754542454047, 27.629519276855568, 36.27980872993937, 9.20937710144401, 9.188627255682178, 26.87529619566409, 27.854592346972805, 14.476237656618318, 42.617174589641564, 75.65101763847531, 42.698553633402206, 24.357011341686206, 29.460620422653573, 55.967609198617126, 31.574788590463807, 45.4595858836024, 52.62647971726858, 33.210802203605525, 61.45428463528659, 28.548576005365785, 131.20020717537955, 32.54609236527107, 216.40734252997012, 45.1919983799381, 87.035410832108, 142.87685317059373, 97.24710470331563, 63.17852491709327, 98.45930322555444, 89.78255668301851, 257.53497257187377, 144.56552832647554, 125.48065094031105, 90.92147404974757, 254.33858207564478, 255.75982195536974, 137.45854845454772, 387.40243511399814, 182.76489093065845, 87.8856711601801, 58.261234522160954, 47.38960406968336, 114.56196355719116, 44.424796932247524, 43.43656168240893, 43.43641277459557, 42.448053590959525, 42.44806170655862, 161.8798697845666, 41.4592631760371, 47.38644443363421, 40.46818087188896, 38.49469469490032, 42.440340380531914, 56.23144136805871, 84.89474982493127, 33.5533007584687, 33.553295777783525, 97.7602955077577, 32.56501957197936, 35.521190225962286, 75.0402702923975, 34.53973401259734, 31.576736745187816, 31.576469936663035, 39.469390003412805, 31.5747339513054, 30.588280120429616, 283.108074009776, 136.09036837409963, 343.4158501120345, 309.9077346134641, 79.95711408766866, 41.451491333734715, 132.96860614615616, 98.42819925600733, 88.69622839217722, 60.21533380089537, 46.342632426836545, 500.94255845895674, 135.21920699156772, 131.1364897573954, 91.7946062084219, 117.08895450956663, 205.33622151629314, 237.28903458929946, 125.31173779361043, 96.70292586100277, 77.96027373846609, 68.09214015252722, 205.8901415014044, 125.13972583488906, 121.10267793062991, 205.2575136395691, 84.76403432857708, 284.863825199801, 106.23321173328377, 215.12958320144315, 209.7465798947221, 266.03473243261743, 112.32865991003835, 131.9835460860972, 132.43057457367203, 217.58536625248738, 295.1688600207166, 144.22873308335122, 142.10085287710476, 175.9882072015192, 254.33858207564478, 387.40243511399814, 791.921083829241, 216.66762220502198, 266.92864960597075, 255.75982195536974, 25.919279278278037, 24.958439788952113, 26.872282190528324, 19.19337264410581, 18.232997675479734, 21.09880271772353, 23.00589619325249, 15.350703501452452, 15.350694167496332, 15.35071508284557, 19.173378815771457, 14.389902432359111, 16.315479893631508, 13.429114555613168, 13.429081024558604, 13.42914783089968, 13.42912307148361, 13.428869659157781, 13.426111872296572, 12.46831956514428, 62.4478999752708, 11.504389629779443, 39.26131774533651, 10.546755135918763, 9.585888351301211, 9.585961220455571, 9.585542324585306, 9.586342648037313, 25.92481476538854, 9.585217576830008, 26.887125299920793, 302.66153967629725, 50.09617225144925, 39.394892914834216, 59.7596980626629, 56.46527028774038, 47.59433433431913, 89.60588556185827, 110.38899708576868, 40.058593479801594, 59.75498415832101, 75.68189385299492, 67.15123858869109, 66.76204531936115, 48.11348820383058, 66.39607981905174, 57.33459609830905, 58.48851895572872, 62.87211260514371, 262.7953780953204, 45.32705952954184, 387.40243511399814, 186.98204346329888, 98.45930322555444, 97.96120893759957, 791.921083829241, 74.62082666592573, 97.34324714127501, 150.01341798938773, 49.73590773054907, 127.9070157042174, 295.1688600207166, 166.93767055438764, 172.68059499167208, 147.85634479803414, 216.66762220502198, 116.5994413185151, 301.41735528852195, 217.58536625248738], \"Category\": [\"Default\", \"Default\", \"Default\", \"Default\", \"Default\", \"Default\", \"Default\", \"Default\", \"Default\", \"Default\", \"Default\", \"Default\", \"Default\", \"Default\", \"Default\", \"Default\", \"Default\", \"Default\", \"Default\", \"Default\", \"Default\", \"Default\", \"Default\", \"Default\", \"Default\", \"Default\", \"Default\", \"Default\", \"Default\", \"Default\", \"Topic1\", \"Topic1\", \"Topic1\", \"Topic1\", \"Topic1\", \"Topic1\", \"Topic1\", \"Topic1\", \"Topic1\", \"Topic1\", \"Topic1\", \"Topic1\", \"Topic1\", \"Topic1\", \"Topic1\", \"Topic1\", \"Topic1\", \"Topic1\", \"Topic1\", \"Topic1\", \"Topic1\", \"Topic1\", \"Topic1\", \"Topic1\", \"Topic1\", \"Topic1\", \"Topic1\", \"Topic1\", \"Topic1\", \"Topic1\", \"Topic1\", \"Topic1\", \"Topic1\", \"Topic1\", \"Topic1\", \"Topic1\", \"Topic1\", \"Topic1\", \"Topic1\", \"Topic1\", \"Topic1\", \"Topic1\", \"Topic1\", \"Topic1\", \"Topic1\", \"Topic1\", \"Topic1\", \"Topic1\", \"Topic1\", \"Topic1\", \"Topic1\", \"Topic1\", \"Topic1\", \"Topic1\", \"Topic1\", \"Topic1\", \"Topic1\", \"Topic1\", \"Topic1\", \"Topic1\", \"Topic1\", \"Topic1\", \"Topic1\", \"Topic1\", \"Topic1\", \"Topic1\", \"Topic1\", \"Topic1\", \"Topic2\", \"Topic2\", \"Topic2\", \"Topic2\", \"Topic2\", \"Topic2\", \"Topic2\", \"Topic2\", \"Topic2\", \"Topic2\", \"Topic2\", \"Topic2\", \"Topic2\", \"Topic2\", \"Topic2\", \"Topic2\", \"Topic2\", \"Topic2\", \"Topic2\", \"Topic2\", \"Topic2\", \"Topic2\", \"Topic2\", \"Topic2\", \"Topic2\", \"Topic2\", \"Topic2\", \"Topic2\", \"Topic2\", \"Topic2\", \"Topic2\", \"Topic2\", \"Topic2\", \"Topic2\", \"Topic2\", \"Topic2\", \"Topic2\", \"Topic2\", \"Topic2\", \"Topic2\", \"Topic2\", \"Topic2\", \"Topic2\", \"Topic2\", \"Topic2\", \"Topic2\", \"Topic2\", \"Topic2\", \"Topic2\", \"Topic2\", \"Topic2\", \"Topic2\", \"Topic2\", \"Topic2\", \"Topic2\", \"Topic2\", \"Topic2\", \"Topic2\", \"Topic2\", \"Topic2\", \"Topic2\", \"Topic2\", \"Topic2\", \"Topic2\", \"Topic2\", \"Topic2\", \"Topic2\", \"Topic2\", \"Topic2\", \"Topic2\", \"Topic2\", \"Topic2\", \"Topic2\", \"Topic2\", \"Topic2\", \"Topic3\", \"Topic3\", \"Topic3\", \"Topic3\", \"Topic3\", \"Topic3\", \"Topic3\", \"Topic3\", \"Topic3\", \"Topic3\", \"Topic3\", \"Topic3\", \"Topic3\", \"Topic3\", \"Topic3\", \"Topic3\", \"Topic3\", \"Topic3\", \"Topic3\", \"Topic3\", \"Topic3\", \"Topic3\", \"Topic3\", \"Topic3\", \"Topic3\", \"Topic3\", \"Topic3\", \"Topic3\", \"Topic3\", \"Topic3\", \"Topic3\", \"Topic3\", \"Topic3\", \"Topic3\", \"Topic3\", \"Topic3\", \"Topic3\", \"Topic3\", \"Topic3\", \"Topic3\", \"Topic3\", \"Topic3\", \"Topic3\", \"Topic3\", \"Topic3\", \"Topic3\", \"Topic3\", \"Topic3\", \"Topic3\", \"Topic3\", \"Topic3\", \"Topic3\", \"Topic3\", \"Topic3\", \"Topic3\", \"Topic3\", \"Topic3\", \"Topic3\", \"Topic3\", \"Topic3\", \"Topic3\", \"Topic3\", \"Topic4\", \"Topic4\", \"Topic4\", \"Topic4\", \"Topic4\", \"Topic4\", \"Topic4\", \"Topic4\", \"Topic4\", \"Topic4\", \"Topic4\", \"Topic4\", \"Topic4\", \"Topic4\", \"Topic4\", \"Topic4\", \"Topic4\", \"Topic4\", \"Topic4\", \"Topic4\", \"Topic4\", \"Topic4\", \"Topic4\", \"Topic4\", \"Topic4\", \"Topic4\", \"Topic4\", \"Topic4\", \"Topic4\", \"Topic4\", \"Topic4\", \"Topic4\", \"Topic4\", \"Topic4\", \"Topic4\", \"Topic4\", \"Topic4\", \"Topic4\", \"Topic4\", \"Topic4\", \"Topic4\", \"Topic4\", \"Topic4\", \"Topic4\", \"Topic4\", \"Topic4\", \"Topic4\", \"Topic4\", \"Topic4\", \"Topic4\", \"Topic4\", \"Topic4\", \"Topic4\", \"Topic4\", \"Topic4\", \"Topic4\", \"Topic4\", \"Topic4\", \"Topic4\", \"Topic4\", \"Topic4\", \"Topic4\", \"Topic4\", \"Topic4\", \"Topic4\", \"Topic4\", \"Topic4\", \"Topic4\", \"Topic4\", \"Topic4\", \"Topic4\", \"Topic4\", \"Topic4\", \"Topic4\", \"Topic4\", \"Topic4\", \"Topic5\", \"Topic5\", \"Topic5\", \"Topic5\", \"Topic5\", \"Topic5\", \"Topic5\", \"Topic5\", \"Topic5\", \"Topic5\", \"Topic5\", \"Topic5\", \"Topic5\", \"Topic5\", \"Topic5\", \"Topic5\", \"Topic5\", \"Topic5\", \"Topic5\", \"Topic5\", \"Topic5\", \"Topic5\", \"Topic5\", \"Topic5\", \"Topic5\", \"Topic5\", \"Topic5\", \"Topic5\", \"Topic5\", \"Topic5\", \"Topic5\", \"Topic5\", \"Topic5\", \"Topic5\", \"Topic5\", \"Topic5\", \"Topic5\", \"Topic5\", \"Topic5\", \"Topic5\", \"Topic5\", \"Topic5\", \"Topic5\", \"Topic5\", \"Topic5\", \"Topic5\", \"Topic5\", \"Topic5\", \"Topic5\", \"Topic5\", \"Topic5\", \"Topic5\", \"Topic5\", \"Topic5\", \"Topic5\", \"Topic5\", \"Topic5\", \"Topic5\", \"Topic5\", \"Topic5\", \"Topic5\", \"Topic5\", \"Topic5\", \"Topic5\", \"Topic5\", \"Topic5\", \"Topic5\", \"Topic5\", \"Topic5\"], \"logprob\": [30.0, 29.0, 28.0, 27.0, 26.0, 25.0, 24.0, 23.0, 22.0, 21.0, 20.0, 19.0, 18.0, 17.0, 16.0, 15.0, 14.0, 13.0, 12.0, 11.0, 10.0, 9.0, 8.0, 7.0, 6.0, 5.0, 4.0, 3.0, 2.0, 1.0, -5.359, -6.0654, -6.4193, -6.8203, -6.9719, -6.2892, -6.984, -7.1515, -7.1538, -7.2576, -6.3824, -5.1199, -6.107, -6.5927, -6.3745, -6.3753, -7.6505, -6.4674, -6.1703, -5.945, -7.4148, -7.8256, -7.8257, -7.8262, -7.8281, -6.539, -6.021, -7.155, -7.1634, -6.513, -5.3853, -6.2546, -6.5256, -6.9481, -6.4714, -6.6363, -6.0237, -6.9125, -6.6164, -5.4112, -6.1508, -6.1912, -4.9788, -6.0582, -6.3629, -6.0084, -5.9956, -6.1195, -5.6044, -6.1958, -5.5082, -5.7481, -6.167, -5.6114, -5.8563, -6.0804, -5.9449, -5.7021, -5.8511, -5.9934, -5.7506, -5.9104, -6.0014, -5.9326, -5.9549, -5.9961, -6.0646, -6.0621, -6.3293, -6.7658, -7.1053, -7.1054, -6.3137, -7.3087, -7.4033, -7.4539, -7.5072, -7.4572, -7.5644, -6.4461, -5.841, -7.6237, -7.6238, -7.6239, -6.524, -6.284, -7.6874, -7.6875, -7.6879, -6.8492, -7.6284, -7.6888, -7.2827, -7.7556, -7.756, -7.4213, -7.8284, -5.9921, -5.6195, -6.5727, -7.219, -5.5678, -5.9226, -6.7322, -6.6919, -6.5657, -6.7694, -6.9946, -6.029, -6.2879, -6.7841, -5.6677, -5.3643, -6.5005, -6.3968, -5.2272, -6.57, -6.3919, -5.1974, -5.84, -5.1451, -5.6147, -5.7654, -5.7794, -5.7086, -6.0973, -5.5445, -4.3921, -6.0715, -5.8893, -5.8505, -5.69, -5.6415, -5.3121, -5.3919, -5.7506, -5.9063, -5.5594, -5.6991, -5.9776, -5.591, -5.8386, -5.9791, -4.5371, -5.6116, -6.7703, -6.4658, -6.696, -6.6296, -4.9121, -5.8279, -6.3809, -6.4389, -6.1974, -7.1393, -6.8509, -5.9587, -6.1614, -6.7862, -6.5218, -7.2997, -6.4404, -7.4439, -6.4443, -6.0097, -6.9541, -5.8051, -6.514, -6.0626, -5.7908, -7.1626, -7.1649, -6.0964, -6.0706, -6.7283, -5.6942, -5.2033, -5.7334, -6.2466, -6.0988, -5.5934, -6.0493, -5.833, -5.7674, -6.0762, -5.716, -6.1967, -5.4132, -6.1738, -5.4528, -6.0573, -5.8371, -5.715, -5.8505, -5.9765, -5.8915, -5.9249, -5.7653, -5.8725, -5.908, -5.9619, -5.8641, -5.8854, -5.9354, -6.0061, -5.7253, -6.4626, -6.8757, -7.0853, -6.2035, -7.1509, -7.1737, -7.1738, -7.1972, -7.1972, -5.859, -7.2213, -7.0885, -7.2466, -7.2969, -7.1993, -6.9193, -6.5088, -7.4371, -7.4371, -6.3683, -7.4677, -7.3809, -6.6332, -7.4091, -7.4992, -7.4993, -7.2762, -7.5, -7.5319, -5.3166, -6.0468, -5.1325, -5.2349, -6.5766, -7.228, -6.0777, -6.375, -6.4796, -6.8592, -7.1181, -4.7903, -6.0708, -6.101, -6.4501, -6.2143, -5.6744, -5.5362, -6.1531, -6.4019, -6.6114, -6.742, -5.693, -6.1649, -6.2004, -5.7175, -6.538, -5.4949, -6.3509, -5.7757, -5.8506, -5.7734, -6.3283, -6.2253, -6.2257, -5.9241, -5.7785, -6.1845, -6.2012, -6.1119, -5.9578, -5.8749, -5.701, -6.0949, -6.0779, -6.0877, -6.53, -6.569, -6.4961, -6.8413, -6.8947, -6.7513, -6.6676, -7.0747, -7.0747, -7.0748, -6.854, -7.1426, -7.0201, -7.2155, -7.2155, -7.2157, -7.2158, -7.216, -7.2203, -7.2944, -5.6897, -7.3837, -6.157, -7.4735, -7.5768, -7.5768, -7.5775, -7.5779, -6.5859, -7.5827, -6.5624, -4.1933, -5.9784, -6.2148, -5.8169, -5.8747, -6.0477, -5.4722, -5.2836, -6.2227, -5.9127, -5.7083, -5.8284, -5.8557, -6.1342, -5.8828, -6.0135, -6.0188, -5.9628, -5.0106, -6.2488, -4.7788, -5.2777, -5.7634, -5.7851, -4.5486, -5.9671, -5.8205, -5.6291, -6.196, -5.7744, -5.4195, -5.686, -5.7169, -5.828, -5.7999, -5.923, -5.8105, -5.9652], \"loglift\": [30.0, 29.0, 28.0, 27.0, 26.0, 25.0, 24.0, 23.0, 22.0, 21.0, 20.0, 19.0, 18.0, 17.0, 16.0, 15.0, 14.0, 13.0, 12.0, 11.0, 10.0, 9.0, 8.0, 7.0, 6.0, 5.0, 4.0, 3.0, 2.0, 1.0, 2.3758, 2.3614, 2.3495, 2.3299, 2.3207, 2.3117, 2.3075, 2.3071, 2.3045, 2.2954, 2.2945, 2.2934, 2.2814, 2.2682, 2.2643, 2.2581, 2.2563, 2.2545, 2.2465, 2.2411, 2.2381, 2.2338, 2.2336, 2.2332, 2.2311, 2.2193, 2.2133, 2.2062, 2.1998, 2.1991, 2.1986, 2.1935, 2.1817, 2.189, 2.1533, 2.1646, 2.0348, 2.1596, 2.0919, 1.8005, 1.9365, 1.9183, 1.3376, 1.7737, 1.9226, 1.6817, 1.5832, 1.636, 0.899, 1.686, 0.5099, 0.9056, 1.5964, 0.5813, 0.964, 1.4127, 1.0224, 0.3417, 0.7245, 1.1356, 0.3807, 0.7124, 0.9943, 0.2274, 0.2252, 0.0831, 0.8154, -1.0053, 1.3421, 1.3366, 1.3287, 1.3287, 1.325, 1.3223, 1.3187, 1.317, 1.3151, 1.314, 1.312, 1.3118, 1.3108, 1.31, 1.3099, 1.3097, 1.3093, 1.3071, 1.307, 1.3069, 1.3065, 1.306, 1.3057, 1.3056, 1.3052, 1.3035, 1.3031, 1.3004, 1.2998, 1.2967, 1.2942, 1.2828, 1.2886, 1.2283, 1.2389, 1.2712, 1.2677, 1.2545, 1.2614, 1.2753, 1.2037, 1.2102, 1.251, 1.1508, 1.1195, 1.2246, 1.1956, 1.0445, 1.2153, 1.1898, 1.0111, 1.0986, 0.9525, 1.0364, 1.0592, 1.0613, 1.0429, 1.1211, 0.9736, 0.6647, 1.1053, 1.0395, 1.0257, 0.9592, 0.9342, 0.7059, 0.7393, 0.9078, 0.9417, 0.5849, 0.6808, 0.97, 0.4318, 0.5795, 0.8236, 2.6779, 2.6646, 2.6621, 2.587, 2.5725, 2.5655, 2.5651, 2.5599, 2.5565, 2.5484, 2.5337, 2.4962, 2.4924, 2.4895, 2.4862, 2.4662, 2.4592, 2.454, 2.4272, 2.4251, 2.3771, 2.3727, 2.3704, 2.3699, 2.3569, 2.3498, 2.3492, 2.3484, 2.3484, 2.3437, 2.3337, 2.3305, 2.2848, 2.2019, 2.2437, 2.2919, 2.2495, 2.1131, 2.2296, 2.0815, 2.0007, 2.1522, 1.897, 2.183, 1.4414, 2.0748, 0.9013, 1.8631, 1.4279, 1.0543, 1.3036, 1.6088, 1.2502, 1.309, 0.4149, 0.885, 0.9912, 1.2594, 0.3285, 0.3016, 0.8725, -0.2343, 0.7978, 0.7927, 0.7906, 0.7876, 0.7867, 0.7866, 0.7863, 0.7862, 0.7858, 0.7858, 0.7855, 0.7852, 0.7845, 0.7842, 0.7839, 0.7839, 0.7826, 0.7811, 0.7811, 0.7811, 0.7805, 0.7804, 0.7803, 0.7801, 0.7801, 0.7797, 0.7796, 0.7796, 0.7789, 0.7788, 0.7689, 0.7712, 0.7599, 0.7601, 0.7732, 0.7788, 0.7635, 0.767, 0.7665, 0.7741, 0.7771, 0.7245, 0.7536, 0.7541, 0.7616, 0.7541, 0.7322, 0.7258, 0.7474, 0.7577, 0.7637, 0.7684, 0.711, 0.7369, 0.7343, 0.6896, 0.7535, 0.5844, 0.7148, 0.5843, 0.5348, 0.3743, 0.6815, 0.6234, 0.6195, 0.4246, 0.2652, 0.5754, 0.5735, 0.449, 0.2348, -0.1031, -0.6442, 0.258, 0.0664, 0.0994, 1.9464, 1.9451, 1.9441, 1.9354, 1.9333, 1.9308, 1.9279, 1.9254, 1.9254, 1.9253, 1.9238, 1.9222, 1.9191, 1.9184, 1.9183, 1.9181, 1.918, 1.9179, 1.9138, 1.9137, 1.9073, 1.9049, 1.9041, 1.902, 1.8942, 1.8942, 1.8935, 1.893, 1.8902, 1.8884, 1.8773, 1.8254, 1.839, 1.8429, 1.8241, 1.823, 1.8209, 1.7636, 1.7437, 1.8183, 1.7283, 1.6965, 1.696, 1.6744, 1.7235, 1.6529, 1.6689, 1.6436, 1.6274, 1.1493, 1.6686, 0.9931, 1.2226, 1.3783, 1.3616, 0.5082, 1.4518, 1.3326, 1.0915, 1.6285, 1.1055, 0.6243, 0.9276, 0.863, 0.907, 0.553, 1.0495, 0.2123, 0.3835]}, \"token.table\": {\"Topic\": [1, 2, 3, 4, 5, 1, 2, 3, 4, 5, 1, 3, 4, 5, 1, 3, 4, 5, 1, 3, 4, 5, 1, 3, 4, 3, 4, 2, 4, 3, 4, 5, 4, 1, 2, 3, 5, 4, 2, 4, 1, 2, 3, 4, 5, 4, 5, 2, 4, 1, 2, 3, 4, 5, 5, 5, 3, 1, 2, 3, 4, 5, 4, 4, 1, 2, 3, 4, 5, 2, 5, 1, 3, 4, 2, 3, 4, 5, 2, 3, 4, 3, 5, 1, 2, 5, 1, 2, 3, 4, 5, 1, 2, 3, 5, 1, 3, 1, 1, 2, 4, 5, 1, 2, 5, 1, 2, 3, 4, 5, 1, 2, 3, 4, 1, 3, 1, 4, 1, 2, 3, 4, 5, 1, 2, 4, 5, 2, 3, 1, 2, 3, 4, 5, 3, 4, 4, 1, 2, 4, 5, 2, 3, 1, 2, 3, 4, 5, 1, 2, 3, 1, 2, 4, 5, 5, 1, 2, 3, 4, 5, 1, 2, 3, 4, 5, 1, 5, 4, 4, 1, 1, 2, 4, 4, 5, 2, 4, 1, 2, 4, 5, 1, 2, 3, 4, 5, 1, 1, 2, 3, 4, 5, 2, 3, 4, 5, 3, 5, 5, 1, 2, 3, 4, 5, 5, 1, 4, 5, 2, 3, 4, 2, 5, 2, 3, 4, 5, 1, 2, 3, 4, 5, 1, 2, 5, 1, 3, 5, 4, 1, 4, 1, 5, 2, 3, 4, 2, 3, 1, 2, 5, 1, 5, 2, 3, 5, 1, 2, 3, 4, 2, 3, 2, 4, 5, 4, 4, 5, 3, 4, 2, 5, 1, 2, 3, 4, 1, 5, 1, 2, 4, 5, 1, 2, 2, 4, 5, 1, 2, 3, 5, 1, 2, 4, 5, 1, 2, 3, 2, 4, 5, 1, 2, 4, 5, 2, 5, 1, 2, 3, 4, 5, 1, 2, 4, 5, 1, 2, 3, 4, 1, 2, 3, 4, 5, 2, 5, 2, 5, 1, 2, 3, 4, 5, 1, 2, 3, 4, 5, 1, 2, 3, 1, 4, 1, 3, 2, 1, 2, 3, 4, 5, 1, 2, 3, 5, 5, 1, 2, 3, 4, 5, 5, 1, 2, 4, 5, 2, 1, 2, 4, 5, 2, 3, 4, 2, 1, 2, 4, 1, 2, 3, 4, 4, 2, 5, 5, 2, 1, 2, 4, 5, 5, 1, 4, 5, 1, 3, 4, 5, 3, 4, 5, 4, 1, 3, 4, 5, 1, 2, 4, 5, 1, 2, 3, 4, 5, 4, 5, 1, 2, 3, 4, 5, 2, 2, 4, 5, 5, 1, 2, 3, 4, 5, 2, 3, 5, 1, 2, 3, 4, 5, 3, 4, 1, 2, 3, 4, 5, 2, 1, 2, 3, 4, 5, 2, 1, 2, 3, 4, 5, 4, 4, 1, 4, 5, 1, 2, 3, 4, 5, 1, 2, 4, 5, 2, 5, 2, 1, 2, 1, 2, 4, 5, 4, 1, 3, 1, 3, 1, 2, 2, 4, 5, 1, 4, 5, 1, 2, 3, 4, 1, 2, 5, 4, 5, 2, 2, 4, 5, 1, 2, 5, 4, 1, 2, 3, 4, 5, 1, 2, 5, 1, 3, 4, 5, 2, 3, 4, 5, 1, 2, 3, 4, 5, 1, 2, 3, 4, 5, 4, 5, 1, 2, 3, 4, 5, 5, 1, 2, 4, 1, 2, 3, 4, 5, 5, 2, 4, 1, 1, 2, 4, 2, 2, 1, 2, 3, 5, 1, 2, 3, 4, 4, 2, 4, 1, 2, 4, 5, 1, 2, 3, 4, 5, 1, 2, 3, 4, 1, 5, 5, 1, 2, 3, 4, 5, 1, 2, 3, 1, 2, 4, 5, 1, 2, 5, 5, 2, 5, 4, 5, 1, 4, 5, 2, 3, 4, 2, 4, 1, 2, 3, 4, 5, 1, 2, 3, 4, 5, 1, 3, 1, 3, 4, 1, 2, 4, 5, 1, 2, 3, 4, 5, 1, 2, 3, 4, 5, 3, 4, 5, 1, 4, 1, 4, 1, 2, 4, 5, 1, 2, 3, 4, 5, 1, 4, 4, 2, 2, 4, 4, 1, 4, 5, 1, 2, 4, 1, 2, 3, 4, 5, 5, 5, 1, 1, 2, 3, 4, 5, 1, 3, 4, 5, 5, 1, 2, 4, 5, 2, 3, 4, 1, 3, 2, 2, 4, 5, 1, 2, 3, 4, 5, 1, 3, 4, 1, 2, 4, 5, 1, 4, 2, 4, 5, 1, 1, 2, 3, 4, 5, 2, 4, 1, 2, 3, 4, 5, 2, 3, 4, 4, 1, 3, 4, 2, 1, 2, 3, 4, 5, 1, 2, 3, 5, 2, 3, 4, 5, 2, 1, 5, 2, 2, 2, 4, 1, 2, 5, 5, 2, 1, 2, 3, 4, 5, 2, 3, 4, 5, 4, 5, 1, 2, 5, 1, 1, 4, 5, 2, 4, 5, 1, 3, 4, 5, 3, 4, 1, 2, 4, 5, 4, 1, 3, 4, 5, 2, 4, 1, 2, 3, 1, 2, 3, 3, 4, 1, 1, 2, 4, 5, 1, 2, 4, 5, 1, 2, 4, 5, 2, 1, 2, 3, 4, 5, 1, 2, 3, 4, 1, 2, 5, 1, 2, 3, 4, 5, 1, 2, 3, 4, 5, 1, 5, 5, 2, 4, 1, 2, 3, 4, 1, 2, 3, 4, 5, 2, 1, 2, 3, 4, 1, 2, 3, 4, 5, 1, 2, 3, 4, 5, 1, 2, 3, 4, 5, 1, 2, 5, 5, 1, 2, 5, 2, 1, 2, 1, 2, 3, 4, 5, 4, 1, 2, 3, 4, 5, 2, 4, 5, 5, 1, 2, 5, 1, 2, 4, 5, 1, 2, 3, 4, 5], \"Freq\": [0.09829257885012618, 0.0035104492446473633, 0.01755224622323682, 0.8038928770242463, 0.077229883382242, 0.13834556710389184, 0.020751835065583778, 0.15909740216947563, 0.4703749281532323, 0.22135290736622695, 0.19532279835839617, 0.264260256602536, 0.3331977148466758, 0.20681237473241948, 0.9392159289863057, 0.03775563170435741, 0.830623897495863, 0.1283691477948152, 0.2457688351189269, 0.026332375191313595, 0.4739827534436447, 0.2545462935160314, 0.8251862724364938, 0.07501693385786308, 0.07501693385786308, 0.7417025521427326, 0.22821616989007157, 0.04437239452509258, 0.9540064822894905, 0.014696117174892113, 0.9699437335428794, 0.014696117174892113, 0.9835097964742247, 0.11364981071423459, 0.028412452678558648, 0.8381673540174801, 0.028412452678558648, 0.9649833748549973, 0.02937196562657563, 0.9692748656769958, 0.28079622474628957, 0.26073935155012606, 0.060170619588490626, 0.29082466134437135, 0.11031280257889947, 0.9955161519610164, 0.9624392394903409, 0.9155686676509485, 0.0398073333761282, 0.003758907684180993, 0.19922210726159262, 0.018794538420904963, 0.6502910293633117, 0.12780286126215376, 0.9561567674591084, 0.9388356258935352, 0.9033042326620853, 0.061451309655045964, 0.09217696448256894, 0.5223361320678908, 0.24580523862018386, 0.061451309655045964, 0.9884308891133236, 0.9817353911570451, 0.06566891403255991, 0.730566668612229, 0.024625842762209964, 0.06566891403255991, 0.11492059955697984, 0.06405339493536194, 0.9287742265627482, 0.8623920621574954, 0.09077811180605215, 0.9894446611079725, 0.23464718382411437, 0.6335473963251088, 0.11732359191205718, 0.02346471838241144, 0.0706260587263106, 0.8475127047157273, 0.0706260587263106, 0.05094072524444398, 0.9424034170222136, 0.060053564038206775, 0.9008034605731017, 0.04003570935880452, 0.24303616299207503, 0.2724950918395993, 0.06628258990692956, 0.24303616299207503, 0.16938884087326442, 0.031541011513365906, 0.8516073108608794, 0.031541011513365906, 0.07885252878341475, 0.13839883351052418, 0.6919941675526209, 0.9820306144294291, 0.14205497287311528, 0.05682198914924611, 0.6989104665357271, 0.102279580468643, 0.07732425747583718, 0.8698978966031683, 0.03866212873791859, 0.14396315492077238, 0.20566164988681768, 0.23651089736984032, 0.3701909697962718, 0.04113232997736354, 0.4539141014390929, 0.03782617511992441, 0.07565235023984881, 0.43500101387913065, 0.9177768000854999, 0.043703657146928566, 0.826258029893515, 0.14581024056944383, 0.004648361165017548, 0.12085739029045627, 0.009296722330035097, 0.8041664815480359, 0.06042869514522813, 0.03103352284604643, 0.670324093474603, 0.10551397767655787, 0.19240784164548788, 0.14932777111127007, 0.7964147792601071, 0.051292117727767525, 0.017097372575922507, 0.034194745151845014, 0.1880710983351476, 0.7180896481887453, 0.7877738231831539, 0.18756519599598903, 0.9881074928350243, 0.013846092782433577, 0.16153774912839172, 0.5815358968622103, 0.23999894156218202, 0.21716995383828994, 0.6515098615148698, 0.020312961137032643, 0.1828166502332938, 0.22344257250735908, 0.020312961137032643, 0.5484499506998813, 0.9062194593768589, 0.05330702702216817, 0.026653513511084085, 0.02717662157641578, 0.14494198174088418, 0.02717662157641578, 0.7971808995748629, 0.9562765916701166, 0.0653305933911053, 0.6805270144906801, 0.021776864463701764, 0.15788226736183777, 0.07621902562295617, 0.0070372554404359924, 0.11963334248741188, 0.042223532642615955, 0.7952098647692671, 0.03518627720217996, 0.8577516379340894, 0.0902896460983252, 0.9904378418905238, 0.98992246234809, 0.8065088765021908, 0.8659519078198049, 0.0865951907819805, 0.028865063593993497, 0.9620284332454124, 0.025654091553210998, 0.9592650715207656, 0.03761823809885355, 0.028239756202909513, 0.04706626033818252, 0.913085450560741, 0.009413252067636504, 0.02894562375958043, 0.5861488811315037, 0.014472811879790215, 0.21709217819685322, 0.15196452473779726, 0.9600041330535124, 0.5555839183197381, 0.09804422087995378, 0.13072562783993838, 0.13072562783993838, 0.08715041855995892, 0.03800368200086411, 0.47504602501080134, 0.3040294560069129, 0.17101656900388848, 0.6529811073019254, 0.2176603691006418, 0.9388016672989181, 0.05640020291375493, 0.3981190793912113, 0.05640020291375493, 0.31849526351296903, 0.17251826773619156, 0.9389140118777121, 0.006177420338494358, 0.9822098338206029, 0.006177420338494358, 0.009740122737387094, 0.05844073642432257, 0.9301817214204675, 0.9380133594229255, 0.05660425444793516, 0.28766154332690536, 0.42042840947778476, 0.17702248820117253, 0.11063905512573283, 0.19030459281958417, 0.657415866104018, 0.011533611686035405, 0.040367640901123915, 0.10380250517431865, 0.08703510008830906, 0.8703510008830905, 0.04351755004415453, 0.031585577348891496, 0.9159817431178534, 0.031585577348891496, 0.9894444719371158, 0.017783645157778805, 0.9781004836778342, 0.9589035630923047, 0.9680636069868088, 0.07441778447534537, 0.6697600602781084, 0.26046224566370885, 0.06866824593512547, 0.8240189512215056, 0.010259965457418967, 0.9541767875399638, 0.0307798963722569, 0.8833459197700156, 0.07066767358160125, 0.8447896036471111, 0.015939426483907757, 0.12751541187126206, 0.025621545709120563, 0.008540515236373522, 0.008540515236373522, 0.947997191237461, 0.05465079851334937, 0.9399937344296092, 0.7896155945953335, 0.18643701539056484, 0.02193376651653704, 0.9807677934779763, 0.9863657752652659, 0.0087289006660643, 0.7207878700140824, 0.27029545125528087, 0.07714616355408414, 0.9257539626490098, 0.19294478788757657, 0.05512708225359331, 0.6615249870431197, 0.08269062338038996, 0.8184148733098263, 0.10230185916372829, 0.020784192485972873, 0.041568384971945746, 0.14548934740181013, 0.7690151219809963, 0.8302493923349444, 0.14651459864734315, 0.08927984975358905, 0.08927984975358905, 0.8035186477823013, 0.6375702702435809, 0.09563554053653714, 0.19127108107307428, 0.09563554053653714, 0.03410350186883758, 0.048719288384053684, 0.8915629774281825, 0.024359644192026842, 0.049632326414531185, 0.8933818754615613, 0.049632326414531185, 0.9552163444225065, 0.015920272407041774, 0.03184054481408355, 0.060577541816650884, 0.6587807672560784, 0.189304818177034, 0.09086631272497633, 0.07438504405697442, 0.8926205286836931, 0.151893970718025, 0.521722768987999, 0.03632247125865815, 0.17831031345159457, 0.11226945661767065, 0.020625543873348296, 0.7287692168583064, 0.006875181291116098, 0.24063134518906346, 0.007064439991672361, 0.021193319975017083, 0.0035322199958361805, 0.9642960588632773, 0.014778605559171053, 0.45813677233430267, 0.029557211118342107, 0.4088747538037325, 0.08374543150196931, 0.9101835880468683, 0.06277128193426677, 0.9515087714543246, 0.027985552101597783, 0.2559484100596597, 0.39245422875814484, 0.025594841005965967, 0.26448002372831503, 0.05972129568058726, 0.11432908775783422, 0.41920665511205885, 0.27438981061880213, 0.022865817551566844, 0.17530460122867914, 0.7113017726564705, 0.17782544316411764, 0.12701817368865545, 0.8413035613331193, 0.0934781734814577, 0.8877698982642583, 0.09864109980713982, 0.9752808087097914, 0.0970392212874742, 0.20332027317375548, 0.15711112017972015, 0.3835359698504933, 0.16173203547912368, 0.0348829526342296, 0.174414763171148, 0.052324428951344405, 0.7325420053188216, 0.9389458223416198, 0.11415725884310828, 0.26636693730058597, 0.011415725884310828, 0.1712358882646624, 0.4376028255652484, 0.9680435544903128, 0.34709679940706983, 0.26699753800543835, 0.20914807143759337, 0.17354839970353492, 0.9752793862950139, 0.8218861809247912, 0.06322201391729163, 0.03161100695864581, 0.07902751739661452, 0.023594912817000338, 0.023594912817000338, 0.9555939690885137, 0.9715471571095977, 0.4896873204732483, 0.4258150612810855, 0.06387225919216283, 0.7298107039858134, 0.09730809386477512, 0.09730809386477512, 0.04865404693238756, 0.983509942467414, 0.9205076511760045, 0.06903807383820033, 0.9388729823770637, 0.9752661198437349, 0.07787337607400392, 0.46724025644402356, 0.10782467456400543, 0.35342532218201783, 0.9481589238706514, 0.11982856369560597, 0.1348071341575567, 0.7339499526355866, 0.08042479131316019, 0.020106197828290047, 0.18095578045461044, 0.7037169239901517, 0.316563263011367, 0.07914081575284175, 0.585642036571029, 0.9817436864279213, 0.20327266535656274, 0.04690907662074525, 0.3205453569084259, 0.42218168958670726, 0.011124446629533742, 0.8565823904740982, 0.06674667977720246, 0.06674667977720246, 0.031566180025054784, 0.7891545006263696, 0.005261030004175798, 0.09469854007516434, 0.08417648006681276, 0.119769629701128, 0.878310617808272, 0.11198454924602894, 0.21697006416418108, 0.18197489252479704, 0.45493723131199254, 0.034995171639384044, 0.9625647421294633, 0.10041003415050671, 0.10041003415050671, 0.7865452675123026, 0.9323754822204632, 0.0876969462389909, 0.6389348940269337, 0.0250562703539974, 0.0375844055309961, 0.2129782980089779, 0.14477269618478963, 0.6876703068777508, 0.14477269618478963, 0.07460801025790498, 0.7709494393316848, 0.04973867350526998, 0.08289778917544997, 0.016579557835089995, 0.8361078647860473, 0.12863197919785344, 0.049748324842076995, 0.727569250815376, 0.03731124363155775, 0.1803376775525291, 0.012437081210519249, 0.9715729121228542, 0.20048437764531296, 0.16707031470442746, 0.23389844058619844, 0.23389844058619844, 0.1559322937241323, 0.9841801498101093, 0.08510351385808473, 0.7318902191795287, 0.008510351385808473, 0.08935868955098897, 0.08935868955098897, 0.9843735330329848, 0.9826494938616425, 0.06061361614561665, 0.8334372220022289, 0.09849712623662706, 0.07009612102436256, 0.7165381260268173, 0.05451920524117089, 0.12461532626553345, 0.031153831566383364, 0.011767027640787723, 0.9413622112630178, 0.023534055281575445, 0.023534055281575445, 0.9683648775522825, 0.016695946164694525, 0.9815133915866777, 0.8724760883926332, 0.10905951104907916, 0.04290392516847692, 0.6685861672087654, 0.13586242970017692, 0.1537390651870423, 0.9899494420023183, 0.08520023320570246, 0.8520023320570245, 0.07916335286863073, 0.8707968815549381, 0.8958330105127927, 0.047149105816462776, 0.1327055897021533, 0.3164517908282117, 0.5410304810933942, 0.007991067531340228, 0.9349549011668068, 0.04794640518804137, 0.015041144357049544, 0.007520572178524772, 0.015041144357049544, 0.9626332388511708, 0.09245633635929804, 0.38009827169933635, 0.5239192393693556, 0.9889225437006187, 0.9771545075636453, 0.9756504878693035, 0.03181060596071612, 0.254484847685729, 0.6998333311357547, 0.010360531107142872, 0.8910056752142869, 0.10360531107142872, 0.9707417500889741, 0.010325180322686792, 0.16004029500164527, 0.05162590161343396, 0.40268203258478485, 0.3742877866973962, 0.00660804145164609, 0.1321608290329218, 0.8590453887139917, 0.05724506561527986, 0.6869407873833583, 0.05724506561527986, 0.17173519684583957, 0.0838297442835192, 0.7544676985516728, 0.0838297442835192, 0.9680453392824404, 0.027575383875023854, 0.05974666506255168, 0.027575383875023854, 0.6847886995630924, 0.20221948175017493, 0.026664281459695616, 0.5132874180991406, 0.006666070364923904, 0.03999642218954342, 0.413296362625282, 0.9755229523976717, 0.025013409035837736, 0.07274920412320968, 0.08002412453553064, 0.15277332865874033, 0.6183682350472822, 0.07274920412320968, 0.9193722831196044, 0.627567643963565, 0.18304056282270648, 0.18304056282270648, 0.06391392147523177, 0.7070477563197515, 0.011983860276605958, 0.03994620092201986, 0.17176866396468538, 0.9479210866879898, 0.013326178012198769, 0.9728109948905102, 0.9394169764870374, 0.3752747556998913, 0.31754017789990807, 0.28867288899991644, 0.9457142540187482, 0.9615738054506374, 0.2850375379146061, 0.06334167509213469, 0.6017459133752796, 0.06334167509213469, 0.09181939162863127, 0.09181939162863127, 0.7345551330290502, 0.989952835726554, 0.9896244851812285, 0.10682937025698112, 0.8813423046200943, 0.022477916884744133, 0.46079729613725473, 0.47952889354120815, 0.033716875327116196, 0.4921177658198328, 0.05272690348069637, 0.29878578639061276, 0.10545380696139274, 0.05272690348069637, 0.5468401416736205, 0.08101335432201785, 0.3240534172880714, 0.06076001574151339, 0.939432497557757, 0.9771531761906327, 0.9729044422509548, 0.22534129120827337, 0.3702035498421634, 0.05365268838292223, 0.26289817307631896, 0.09120957025096779, 0.24633564093026478, 0.08211188031008826, 0.6568950424807061, 0.015061130155956276, 0.21085582218338786, 0.060244520623825105, 0.7229342474859013, 0.10505452108812499, 0.04202180843525, 0.8614470729226249, 0.9615985695798033, 0.10153600388373674, 0.8630560330117623, 0.9513672847110894, 0.041363794987438675, 0.9394155847399094, 0.9776811896043207, 0.011779291441015912, 0.10574874270998946, 0.581618084904942, 0.3040276352912197, 0.9368695076298847, 0.04930892145420446, 0.13198202212861412, 0.06599101106430706, 0.23096853872507472, 0.46193707745014945, 0.10998501844051178, 0.07969356171699193, 0.15938712343398387, 0.17532583577738226, 0.5259775073321468, 0.06375484937359355, 0.1229698395457117, 0.7378190372742701, 0.09157755980351362, 0.7784092583298657, 0.13736633970527043, 0.12873986773988608, 0.02710313005050233, 0.5827172960858001, 0.25747973547977215, 0.4691149438482931, 0.0750583910157269, 0.13135218427752207, 0.26270436855504414, 0.05629379326179517, 0.1301780672816824, 0.0650890336408412, 0.42307871866546787, 0.27662839297357517, 0.11390580887147211, 0.025285618487954225, 0.9271393445583216, 0.05057123697590845, 0.03047907025299868, 0.9651705580116249, 0.021578403030487112, 0.97102813637192, 0.009713918235304908, 0.03399871382356718, 0.9131083141186613, 0.04371263205887208, 0.03512047741782986, 0.14048190967131943, 0.7024095483565972, 0.07024095483565972, 0.07024095483565972, 0.8481254790017415, 0.15145097839316812, 0.9917787017357126, 0.9326335323353672, 0.03268165880235301, 0.9586619915356884, 0.9817976628974371, 0.6148716448624688, 0.2673354977662908, 0.10693419910651632, 0.02254887311731955, 0.011274436558659775, 0.958327107486081, 0.11378702608259916, 0.5073004912849213, 0.0663757652148495, 0.19912729564454854, 0.10904589999582419, 0.9378237130996209, 0.9388801194182821, 0.954585007904352, 0.19725651975613517, 0.19725651975613517, 0.01715274084835958, 0.19725651975613517, 0.39451303951227035, 0.024963432640345236, 0.07489029792103571, 0.024963432640345236, 0.848756709771738, 0.9680483702664452, 0.03409430630315421, 0.500049825779595, 0.2348718878661734, 0.2310836316102674, 0.03302982286065781, 0.03302982286065781, 0.9330924958135832, 0.9068261898954241, 0.056676636868464005, 0.9821516349017451, 0.08824750693110825, 0.15443313712943943, 0.728041932181643, 0.017373115955181193, 0.2953429712380803, 0.005791038651727065, 0.35325335775535094, 0.3300892031484427, 0.06118096745382208, 0.856533544353509, 0.06118096745382208, 0.044675274247364796, 0.13402582274209437, 0.07445879041227466, 0.7594796622052016, 0.8758431454571144, 0.12512044935101635, 0.02394029524146435, 0.941651612830931, 0.02394029524146435, 0.9270588367879622, 0.014302974577729884, 0.04767658192576628, 0.009535316385153255, 0.7628253108122605, 0.16686803674018197, 0.02045820329830418, 0.9819937583186007, 0.18739263589442828, 0.19948248337148816, 0.11485355103206894, 0.28411141571090737, 0.21157233084854807, 0.03050257031738507, 0.015251285158692535, 0.9532053224182834, 0.9871490162781872, 0.9924458062396129, 0.7669622677505136, 0.1917405669376284, 0.9715828238108779, 0.01786747753421471, 0.1965422528763618, 0.5360243260264412, 0.1786747753421471, 0.07146991013685884, 0.07005603360476173, 0.14011206720952346, 0.5604482688380938, 0.21016810081428522, 0.11417453276066782, 0.6850471965640068, 0.08563089957050085, 0.11417453276066782, 0.9785733200041518, 0.8429465732949395, 0.09366073036610438, 0.9615715922052586, 0.986577937951845, 0.9490433219612073, 0.04313833281641852, 0.039639600005613264, 0.19819800002806634, 0.7531524001066521, 0.9680459531537912, 0.9715714350469057, 0.017966131741105378, 0.00399247372024564, 0.00598871058036846, 0.9242576662368657, 0.04790968464294768, 0.017471529045740276, 0.005823843015246759, 0.9580221760080918, 0.017471529045740276, 0.13386948494303552, 0.8534179665118514, 0.020739070820572605, 0.9332581869257671, 0.04147814164114521, 0.9058730018338582, 0.8217897843700118, 0.07470816221545562, 0.07470816221545562, 0.10720867561298483, 0.29482385793570826, 0.5896477158714165, 0.05447891675131206, 0.7082259177670568, 0.05447891675131206, 0.16343675025393617, 0.7765514488303885, 0.1553102897660777, 0.15253548672084627, 0.04160058728750353, 0.7973445896771509, 0.006933431214583921, 0.9958148913242387, 0.03542000223869, 0.03542000223869, 0.05313000335803499, 0.8500800537285599, 0.016607065623957903, 0.9632098061895584, 0.20723616668647638, 0.06907872222882545, 0.6907872222882546, 0.3613282186449932, 0.06022136977416554, 0.5419923279674899, 0.6821137341851959, 0.32310650566667176, 0.9083033096029339, 0.0631151348571905, 0.7784199965720162, 0.04207675657146034, 0.10519189142865083, 0.03758241775205522, 0.7441318714906934, 0.09019780260493253, 0.1202637368065767, 0.02156756311209065, 0.8770808998916865, 0.06470268933627195, 0.035945938520151086, 0.9673907657800881, 0.02509464792915013, 0.6775554940870535, 0.016729765286100085, 0.10037859171660052, 0.1756625355040509, 0.10183084934943079, 0.10183084934943079, 0.6109850960965847, 0.20366169869886158, 0.7700764825556786, 0.07000695295960715, 0.07000695295960715, 0.9272976831971641, 0.009680300505380364, 0.003226766835126788, 0.958349750032656, 0.029040901516141093, 0.16513420676186855, 0.1494071394512144, 0.09043063703626135, 0.5661744231835493, 0.0314541346213083, 0.8006379973537265, 0.1601275994707453, 0.9771539134073387, 0.9532400642629543, 0.040563406989912947, 0.04683999409374469, 0.07025999114061703, 0.6089199232186809, 0.2810399645624681, 0.44026732205002833, 0.2358574939553723, 0.04717149879107446, 0.09434299758214892, 0.1729621622339397, 0.9833310159641083, 0.22445915327718724, 0.48009318895398384, 0.018704929439765604, 0.2743389651165622, 0.133111794804305, 0.5398422789285702, 0.0665558974021525, 0.17748239307240665, 0.08504364668052819, 0.08556971409471469, 0.1818356424512687, 0.02139242852367867, 0.2353167137604654, 0.4706334275209308, 0.0659926821084862, 0.21997560702828733, 0.5059438961650609, 0.10998780351414367, 0.10998780351414367, 0.007352510998515973, 0.816128720835273, 0.1691077529658674, 0.9682624518289759, 0.018201269520948304, 0.8736609370055186, 0.09100634760474152, 0.9673761534627037, 0.8055623128223367, 0.1790138472938526, 0.11648903331615473, 0.29898851884479716, 0.09707419443012895, 0.43100942326977254, 0.06212748443528253, 0.9853273434069405, 0.015639673070690526, 0.2580546056663937, 0.0860182018887979, 0.4926497017267516, 0.14466697590388738, 0.9135865000366232, 0.07212525000289131, 0.9645329922792857, 0.9675397056214385, 0.024711735095844976, 0.9143341985462641, 0.04942347019168995, 0.013526643058381567, 0.19613632434653272, 0.4463792209265917, 0.34492939798872996, 0.007396920856688213, 0.7396920856688213, 0.014793841713376426, 0.08876305028025855, 0.14054149627707604], \"Term\": [\"000\", \"000\", \"000\", \"000\", \"000\", \"10\", \"10\", \"10\", \"10\", \"10\", \"12\", \"12\", \"12\", \"12\", \"160\", \"1960\", \"1960\", \"1960\", \"30\", \"30\", \"30\", \"30\", \"36\", \"36\", \"36\", \"accuracy\", \"accuracy\", \"act\", \"act\", \"administration\", \"administration\", \"administration\", \"administrative\", \"af\", \"af\", \"af\", \"af\", \"agency\", \"agreement\", \"agreement\", \"air\", \"air\", \"air\", \"air\", \"air\", \"aircraft\", \"al\", \"alexander\", \"alexander\", \"american\", \"american\", \"american\", \"american\", \"american\", \"anderson\", \"ann\", \"apparatus\", \"applied\", \"applied\", \"applied\", \"applied\", \"applied\", \"attorney\", \"authorized\", \"away\", \"away\", \"away\", \"away\", \"away\", \"ball\", \"ball\", \"ballet\", \"ballet\", \"bank\", \"bar\", \"bar\", \"bar\", \"bar\", \"bars\", \"bars\", \"bars\", \"baseball\", \"baseball\", \"beautiful\", \"beautiful\", \"beautiful\", \"best\", \"best\", \"best\", \"best\", \"best\", \"black\", \"black\", \"black\", \"black\", \"blades\", \"blades\", \"blocks\", \"board\", \"board\", \"board\", \"board\", \"bridge\", \"bridge\", \"bridge\", \"brown\", \"brown\", \"brown\", \"brown\", \"brown\", \"build\", \"build\", \"build\", \"build\", \"builder\", \"builder\", \"builders\", \"builders\", \"business\", \"business\", \"business\", \"business\", \"business\", \"came\", \"came\", \"came\", \"came\", \"cattle\", \"cattle\", \"chairman\", \"chairman\", \"chairman\", \"chairman\", \"chairman\", \"chemical\", \"chemical\", \"citizens\", \"city\", \"city\", \"city\", \"city\", \"clarity\", \"clarity\", \"class\", \"class\", \"class\", \"class\", \"class\", \"clay\", \"clay\", \"clay\", \"club\", \"club\", \"club\", \"club\", \"coach\", \"come\", \"come\", \"come\", \"come\", \"come\", \"company\", \"company\", \"company\", \"company\", \"company\", \"concrete\", \"concrete\", \"congo\", \"congress\", \"cooled\", \"cooling\", \"cooling\", \"cooling\", \"corps\", \"corps\", \"couldn\", \"couldn\", \"county\", \"county\", \"county\", \"county\", \"course\", \"course\", \"course\", \"course\", \"course\", \"cream\", \"cut\", \"cut\", \"cut\", \"cut\", \"cut\", \"daily\", \"daily\", \"daily\", \"daily\", \"dancer\", \"dancer\", \"dave\", \"day\", \"day\", \"day\", \"day\", \"day\", \"deadlock\", \"department\", \"department\", \"department\", \"development\", \"development\", \"development\", \"didn\", \"didn\", \"dog\", \"dog\", \"dog\", \"dog\", \"don\", \"don\", \"don\", \"don\", \"don\", \"door\", \"door\", \"door\", \"drill\", \"drill\", \"drill\", \"economy\", \"election\", \"election\", \"erected\", \"ex\", \"exercise\", \"exercise\", \"exercise\", \"experiments\", \"experiments\", \"eyes\", \"eyes\", \"eyes\", \"fallout\", \"fallout\", \"father\", \"father\", \"father\", \"federal\", \"federal\", \"federal\", \"federal\", \"feed\", \"feed\", \"felt\", \"felt\", \"felt\", \"financing\", \"fiscal\", \"fiscal\", \"flexibility\", \"flexibility\", \"football\", \"football\", \"frame\", \"frame\", \"frame\", \"frame\", \"frames\", \"frames\", \"friday\", \"friday\", \"friday\", \"friday\", \"gallery\", \"gallery\", \"game\", \"game\", \"game\", \"gas\", \"gas\", \"gas\", \"gas\", \"general\", \"general\", \"general\", \"general\", \"girls\", \"girls\", \"girls\", \"god\", \"god\", \"god\", \"going\", \"going\", \"going\", \"going\", \"golf\", \"golf\", \"good\", \"good\", \"good\", \"good\", \"good\", \"got\", \"got\", \"got\", \"got\", \"government\", \"government\", \"government\", \"government\", \"great\", \"great\", \"great\", \"great\", \"great\", \"hadn\", \"hadn\", \"hair\", \"hair\", \"half\", \"half\", \"half\", \"half\", \"half\", \"head\", \"head\", \"head\", \"head\", \"head\", \"heat\", \"heat\", \"heat\", \"heater\", \"heater\", \"heating\", \"heating\", \"hell\", \"high\", \"high\", \"high\", \"high\", \"high\", \"hit\", \"hit\", \"hit\", \"hit\", \"hollywood\", \"home\", \"home\", \"home\", \"home\", \"home\", \"homer\", \"house\", \"house\", \"house\", \"house\", \"imagine\", \"inch\", \"inch\", \"inch\", \"inch\", \"income\", \"income\", \"income\", \"innocent\", \"inside\", \"inside\", \"inside\", \"installed\", \"installed\", \"installed\", \"installed\", \"institutions\", \"isn\", \"isn\", \"jane\", \"jesus\", \"john\", \"john\", \"john\", \"john\", \"johnny\", \"jr\", \"jr\", \"jr\", \"judge\", \"judge\", \"judge\", \"judge\", \"junior\", \"junior\", \"junior\", \"justice\", \"kennedy\", \"kennedy\", \"kennedy\", \"kennedy\", \"knew\", \"knew\", \"knew\", \"knew\", \"know\", \"know\", \"know\", \"know\", \"know\", \"laos\", \"laos\", \"large\", \"large\", \"large\", \"large\", \"large\", \"laughed\", \"league\", \"league\", \"league\", \"lee\", \"left\", \"left\", \"left\", \"left\", \"left\", \"leg\", \"leg\", \"leg\", \"let\", \"let\", \"let\", \"let\", \"let\", \"lever\", \"lever\", \"life\", \"life\", \"life\", \"life\", \"life\", \"liked\", \"line\", \"line\", \"line\", \"line\", \"line\", \"listening\", \"little\", \"little\", \"little\", \"little\", \"little\", \"loan\", \"loans\", \"local\", \"local\", \"local\", \"look\", \"look\", \"look\", \"look\", \"look\", \"looked\", \"looked\", \"looked\", \"looked\", \"love\", \"love\", \"loved\", \"lumber\", \"lumber\", \"man\", \"man\", \"man\", \"man\", \"marketing\", \"measurement\", \"measurement\", \"measurements\", \"measurements\", \"meat\", \"meat\", \"meeting\", \"meeting\", \"meeting\", \"military\", \"military\", \"military\", \"million\", \"million\", \"million\", \"million\", \"miss\", \"miss\", \"miss\", \"missile\", \"missouri\", \"moments\", \"monday\", \"monday\", \"monday\", \"mother\", \"mother\", \"mother\", \"motors\", \"mr\", \"mr\", \"mr\", \"mr\", \"mr\", \"mrs\", \"mrs\", \"mrs\", \"muscle\", \"muscle\", \"muscle\", \"muscle\", \"muscles\", \"muscles\", \"muscles\", \"nam\", \"national\", \"national\", \"national\", \"national\", \"national\", \"night\", \"night\", \"night\", \"night\", \"night\", \"nuclear\", \"nuclear\", \"number\", \"number\", \"number\", \"number\", \"number\", \"oct\", \"oil\", \"oil\", \"oil\", \"old\", \"old\", \"old\", \"old\", \"old\", \"orchestra\", \"organization\", \"organization\", \"outdoors\", \"outside\", \"outside\", \"outside\", \"painting\", \"pale\", \"panels\", \"panels\", \"panels\", \"panels\", \"parallel\", \"parallel\", \"parallel\", \"payment\", \"payments\", \"peace\", \"peace\", \"people\", \"people\", \"people\", \"people\", \"piece\", \"piece\", \"piece\", \"piece\", \"piece\", \"pieces\", \"pieces\", \"pieces\", \"pieces\", \"pipes\", \"pitcher\", \"pitching\", \"place\", \"place\", \"place\", \"place\", \"place\", \"plastic\", \"plastic\", \"plastic\", \"play\", \"play\", \"play\", \"play\", \"player\", \"player\", \"player\", \"players\", \"playing\", \"playing\", \"policy\", \"policy\", \"polished\", \"political\", \"political\", \"pool\", \"pool\", \"pool\", \"pope\", \"pope\", \"position\", \"position\", \"position\", \"position\", \"position\", \"possible\", \"possible\", \"possible\", \"possible\", \"possible\", \"precise\", \"precise\", \"precision\", \"precision\", \"precision\", \"president\", \"president\", \"president\", \"president\", \"press\", \"press\", \"press\", \"press\", \"press\", \"pressure\", \"pressure\", \"pressure\", \"pressure\", \"pressure\", \"program\", \"program\", \"program\", \"property\", \"property\", \"providence\", \"providence\", \"public\", \"public\", \"public\", \"public\", \"push\", \"push\", \"push\", \"push\", \"push\", \"radiation\", \"radiation\", \"rayburn\", \"remembered\", \"report\", \"report\", \"representatives\", \"republican\", \"republican\", \"republican\", \"rhode\", \"rhode\", \"rhode\", \"right\", \"right\", \"right\", \"right\", \"right\", \"robinson\", \"roger\", \"roof\", \"run\", \"run\", \"run\", \"run\", \"run\", \"runs\", \"runs\", \"runs\", \"runs\", \"ruth\", \"said\", \"said\", \"said\", \"said\", \"sales\", \"sales\", \"sales\", \"salt\", \"salt\", \"sat\", \"saturday\", \"saturday\", \"saturday\", \"school\", \"school\", \"school\", \"school\", \"school\", \"screw\", \"screw\", \"screw\", \"season\", \"season\", \"season\", \"season\", \"seats\", \"seats\", \"secretary\", \"secretary\", \"secretary\", \"senators\", \"service\", \"service\", \"service\", \"service\", \"service\", \"services\", \"services\", \"set\", \"set\", \"set\", \"set\", \"set\", \"shall\", \"shall\", \"shall\", \"shares\", \"shelter\", \"shipping\", \"shipping\", \"sight\", \"sign\", \"sign\", \"sign\", \"sign\", \"sign\", \"signal\", \"signal\", \"signal\", \"signal\", \"signs\", \"signs\", \"signs\", \"signs\", \"sky\", \"slip\", \"slip\", \"smiled\", \"sounds\", \"speak\", \"speak\", \"st\", \"st\", \"st\", \"stadium\", \"stared\", \"state\", \"state\", \"state\", \"state\", \"state\", \"states\", \"states\", \"states\", \"states\", \"stations\", \"stations\", \"stood\", \"stood\", \"stood\", \"stove\", \"sugar\", \"sugar\", \"sugar\", \"sunday\", \"sunday\", \"sunday\", \"super\", \"super\", \"super\", \"super\", \"surfaces\", \"surfaces\", \"system\", \"system\", \"system\", \"system\", \"tax\", \"team\", \"team\", \"team\", \"team\", \"technical\", \"technical\", \"technique\", \"technique\", \"technique\", \"temperature\", \"temperature\", \"temperature\", \"textile\", \"textile\", \"thickness\", \"thing\", \"thing\", \"thing\", \"thing\", \"think\", \"think\", \"think\", \"think\", \"thought\", \"thought\", \"thought\", \"thought\", \"tone\", \"took\", \"took\", \"took\", \"took\", \"took\", \"tool\", \"tool\", \"tool\", \"tool\", \"trim\", \"trim\", \"trim\", \"underground\", \"united\", \"united\", \"united\", \"united\", \"use\", \"use\", \"use\", \"use\", \"use\", \"vernon\", \"vernon\", \"viet\", \"voice\", \"voice\", \"volume\", \"volume\", \"volume\", \"volume\", \"wall\", \"wall\", \"wall\", \"wall\", \"wall\", \"wasn\", \"water\", \"water\", \"water\", \"water\", \"way\", \"way\", \"way\", \"way\", \"way\", \"week\", \"week\", \"week\", \"week\", \"week\", \"weight\", \"weight\", \"weight\", \"weight\", \"weight\", \"went\", \"went\", \"went\", \"willie\", \"woman\", \"woman\", \"woman\", \"wondered\", \"wooden\", \"wooden\", \"work\", \"work\", \"work\", \"work\", \"work\", \"workers\", \"world\", \"world\", \"world\", \"world\", \"world\", \"wouldn\", \"wouldn\", \"yankees\", \"yards\", \"yes\", \"yes\", \"yes\", \"york\", \"york\", \"york\", \"york\", \"young\", \"young\", \"young\", \"young\", \"young\"]}, \"R\": 30, \"lambda.step\": 0.01, \"plot.opts\": {\"xlab\": \"PC1\", \"ylab\": \"PC2\"}, \"topic.order\": [1, 2, 3, 4, 5]};\n",
       "\n",
       "function LDAvis_load_lib(url, callback){\n",
       "  var s = document.createElement('script');\n",
       "  s.src = url;\n",
       "  s.async = true;\n",
       "  s.onreadystatechange = s.onload = callback;\n",
       "  s.onerror = function(){console.warn(\"failed to load library \" + url);};\n",
       "  document.getElementsByTagName(\"head\")[0].appendChild(s);\n",
       "}\n",
       "\n",
       "if(typeof(LDAvis) !== \"undefined\"){\n",
       "   // already loaded: just create the visualization\n",
       "   !function(LDAvis){\n",
       "       new LDAvis(\"#\" + \"ldavis_el503122394130313872135108434\", ldavis_el503122394130313872135108434_data);\n",
       "   }(LDAvis);\n",
       "}else if(typeof define === \"function\" && define.amd){\n",
       "   // require.js is available: use it to load d3/LDAvis\n",
       "   require.config({paths: {d3: \"https://d3js.org/d3.v5\"}});\n",
       "   require([\"d3\"], function(d3){\n",
       "      window.d3 = d3;\n",
       "      LDAvis_load_lib(\"https://cdn.jsdelivr.net/gh/bmabey/pyLDAvis@3.4.0/pyLDAvis/js/ldavis.v3.0.0.js\", function(){\n",
       "        new LDAvis(\"#\" + \"ldavis_el503122394130313872135108434\", ldavis_el503122394130313872135108434_data);\n",
       "      });\n",
       "    });\n",
       "}else{\n",
       "    // require.js not available: dynamically load d3 & LDAvis\n",
       "    LDAvis_load_lib(\"https://d3js.org/d3.v5.js\", function(){\n",
       "         LDAvis_load_lib(\"https://cdn.jsdelivr.net/gh/bmabey/pyLDAvis@3.4.0/pyLDAvis/js/ldavis.v3.0.0.js\", function(){\n",
       "                 new LDAvis(\"#\" + \"ldavis_el503122394130313872135108434\", ldavis_el503122394130313872135108434_data);\n",
       "            })\n",
       "         });\n",
       "}\n",
       "</script>"
      ],
      "text/plain": [
       "<IPython.core.display.HTML object>"
      ]
     },
     "execution_count": 26,
     "metadata": {},
     "output_type": "execute_result"
    }
   ],
   "source": [
    "pyLDAvis.display(lda_display)"
   ]
  },
  {
   "cell_type": "markdown",
   "id": "a3d14c87",
   "metadata": {},
   "source": [
    "Q: What conclusions do you draw from the visualization above? Please address the principal component scatterplot and the salient terms graph.\n",
    "\n",
    "***A: The scatterplot shows that Topic 4 is the largest and most dominant, while Topic 3 is smaller and more distinct from other topics, indicating a focused theme. Topics 1, 2, and 5 are closer together, suggesting they share more similarities. The salient terms graph highlights keywords associated with the specific topic selected in the principal component scatterplot and shows which terms are most relevant to the chosen topic. It does this by showing the overall term frequency compared with the term frequency within the selected group.***\n"
   ]
  },
  {
   "cell_type": "markdown",
   "id": "583277ff-9ca3-44cf-bfd1-31024fba470e",
   "metadata": {},
   "source": [
    "<center><b>References:</b></center>\n",
    "\n",
    "- Albrecht, J., Ramachandran, S., & Winkler, C. (2020). *Blueprints for text analytics using Python.* O'Reilly.\n",
    "- Pankaj. (2022, August 3). *Python string encode() decode().* DigitalOcean. https://www.digitalocean.com/community/tutorials/python-string-encode-decode\n",
    "- Jain, Y. (2021, February 23). *How to convert a string to UTF-8 in Python?* Studytonight. https://www.studytonight.com/python-howtos/how-to-convert-a-string-to-utf8-in-python\n",
    "- Singh, V. K., & Obi Tulton, A. (2022, November 30). *How to work with Unicode in Python.* DigitalOcean. https://www.digitalocean.com/community/tutorials/how-to-work-with-unicode-in-python\n",
    "- Solomon, B. (2021, August 29). *demoji (Version 1.1.0)* [Python package]. PyPI. https://pypi.org/project/demoji/\n",
    "- pythontutorial.net. (2023). *Python regex sub().* https://www.pythontutorial.net/python-regex/python-regex-sub/\n",
    "- Unicode Table. (n.d.). *UTF-8 encoding table and Unicode characters: Code points U+2000 to U+207F.* Retrieved from https://www.utf8-chartable.de/unicode-utf8-table.pl?start=8192&number=128&utf8=string-literal\n",
    "- OpenAI. (2023). ChatGPT (October 5 version) [Large language model]. https://chat.openai.com/\n",
    "- scikit-learn developers. (2024). *Feature extraction.* Scikit-learn. https://scikit-learn.org/stable/modules/feature_extraction.html\n",
    "- Saket, S. (2020, January 12). *Count vectorizer vs TFIDF vectorizer | Natural language processing.* LinkedIn. https://www.linkedin.com/pulse/count-vectorizers-vs-tfidf-natural-language-processing-sheel-saket/\n",
    "- Jablonski, J. (2023, October 18). *Python's F-String: An improved string interpolation and formatting tool.* Real Python. https://realpython.com/python-f-strings/\n",
    "- Shah, F. P., & Patel, V. (2016). *A review on feature selection and feature extraction for text classification.* 2016 International Conference on Wireless Communications, Signal Processing and Networking (WiSPNET), 2264–2268. https://doi.org/10.1109/WiSPNET.2016.\n",
    "- Bird, S., Klein, E., & Loper, E. (2019). *Accessing text corpora and lexical resources.* Natural Language Toolkit. http://www.nltk.org/book/ch02.html\n",
    "- DataCamp. (2024, January 31). *A beginner's guide to Python for loops: Mastering for i in range.* DataCamp. https://www.datacamp.com/tutorial/python-for-i-in-range\n",
    "- NumPy Developers. (2024). *numpy.argmax.* NumPy. https://numpy.org/doc/2.0/reference/generated/numpy.argmax.html"
   ]
  },
  {
   "cell_type": "code",
   "execution_count": null,
   "id": "9a09c273-e224-48d1-b078-20149153cf56",
   "metadata": {},
   "outputs": [],
   "source": []
  }
 ],
 "metadata": {
  "kernelspec": {
   "display_name": "Python 3 (ipykernel)",
   "language": "python",
   "name": "python3"
  },
  "language_info": {
   "codemirror_mode": {
    "name": "ipython",
    "version": 3
   },
   "file_extension": ".py",
   "mimetype": "text/x-python",
   "name": "python",
   "nbconvert_exporter": "python",
   "pygments_lexer": "ipython3",
   "version": "3.11.5"
  }
 },
 "nbformat": 4,
 "nbformat_minor": 5
}
